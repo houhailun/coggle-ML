{
 "cells": [
  {
   "cell_type": "markdown",
   "id": "9795d28f",
   "metadata": {},
   "source": [
    "# TFIDF提取与分类"
   ]
  },
  {
   "cell_type": "markdown",
   "id": "08aa6039",
   "metadata": {},
   "source": [
    "TFIDF（词频-逆文档频率）是一种常见的文本表示方法，可以用于文本分类任务。\n",
    "TFIDF将文本表示为词项的权重向量，其中每个词项的权重由其在文本中出现的频率和在整个语料库中出现的频率共同决定。\n",
    "TFIDF可以反映出词项在文本中的重要程度，越是常见的词项权重越低，越是稀有的词项权重越高。\n",
    "\n",
    "- 步骤1：使用sklearn中的TfidfVectorizer类提取训练集和测试集的特征，\n",
    "- 步骤2：使用KNN/LR/SVM等分类器对训练集进行训练，并对验证集和测试集进行预测，评估模型的性能。\n",
    "- 步骤3：通过上述步骤，请回答下面问题\n",
    "    - TFIDF中可以设置哪些参数，如何影响到提取的特征？TfidfVectorizer类中可以设置以下参数：\n",
    "        - max_df: 用于过滤掉高频词项，在[0.0, 1.0]之间表示比例；\n",
    "        - min_df: 用于过滤掉低频词项，在[0.0, 1.0]之间表示比例；\n",
    "        - max_features: 用于限制提取特征的数量，默认为None。\n",
    "        - ngram_range: 用于指定提取n元语法特征时n值范围，默认为(1, 1)，即只提取单个词项。\n",
    "        - stop_words: 用于指定停用词列表，默认为None。\n",
    "        - norm: 用于指定归一化方法，默认为’l2’范数。\n",
    "        - use_idf: 是否使用逆文档频率计算权重，默认为True。\n",
    "        - smooth_idf: 是否平滑逆文档频率计算，默认为True  \n",
    "    - KNN/LR/SVM的精度对比：根据实验结果，比较三种分类器在验证集和测试集上预测正确率、召回率、F1值等指标，并分析各自优缺点。"
   ]
  },
  {
   "cell_type": "code",
   "execution_count": 10,
   "id": "fa92e74b",
   "metadata": {},
   "outputs": [],
   "source": [
    "import pandas as pd\n",
    "import jieba\n",
    "from sklearn.linear_model import LogisticRegression\n",
    "from sklearn.svm import LinearSVC\n",
    "from sklearn.neighbors import KNeighborsClassifier\n",
    "\n",
    "from sklearn.metrics import classification_report\n",
    "from sklearn.model_selection import cross_val_predict\n",
    "\n",
    "from sklearn.feature_extraction.text import TfidfVectorizer"
   ]
  },
  {
   "cell_type": "code",
   "execution_count": 11,
   "id": "6e1b803d",
   "metadata": {},
   "outputs": [],
   "source": [
    "data_dir = 'https://mirror.coggle.club/dataset/coggle-competition/'\n",
    "train_data = pd.read_csv(data_dir + 'intent-classify/train.csv', sep='\\t', header=None)\n",
    "test_data = pd.read_csv(data_dir + 'intent-classify/test.csv', sep='\\t', header=None)\n",
    "cn_stopwords = pd.read_csv('https://mirror.coggle.club/stopwords/baidu_stopwords.txt', header=None)[0].values\n"
   ]
  },
  {
   "cell_type": "code",
   "execution_count": 14,
   "id": "a46641a9",
   "metadata": {},
   "outputs": [],
   "source": [
    "tfidf = TfidfVectorizer(\n",
    "    tokenizer=jieba.lcut,\n",
    "    stop_words=list(cn_stopwords)\n",
    ")\n",
    "train_tfidf = tfidf.fit_transform(train_data[0])\n",
    "test_tfidf = tfidf.transform(test_data[0])"
   ]
  },
  {
   "cell_type": "code",
   "execution_count": 23,
   "id": "a159bef7",
   "metadata": {},
   "outputs": [
    {
     "name": "stdout",
     "output_type": "stream",
     "text": [
      "------------- 交叉验证 ------------- \n",
      "KNN\n",
      "                       precision    recall  f1-score   support\n",
      "\n",
      "         Alarm-Update       0.80      0.92      0.86      1264\n",
      "           Audio-Play       0.56      0.63      0.59       226\n",
      "       Calendar-Query       0.81      0.95      0.87      1214\n",
      "        FilmTele-Play       0.80      0.79      0.80      1355\n",
      "HomeAppliance-Control       0.92      0.97      0.94      1215\n",
      "           Music-Play       0.83      0.82      0.83      1304\n",
      "                Other       0.20      0.25      0.22       214\n",
      "         Radio-Listen       0.91      0.83      0.87      1285\n",
      "       TVProgram-Play       0.55      0.39      0.46       240\n",
      "         Travel-Query       0.95      0.90      0.93      1220\n",
      "           Video-Play       0.87      0.73      0.79      1334\n",
      "        Weather-Query       0.93      0.89      0.91      1229\n",
      "\n",
      "             accuracy                           0.84     12100\n",
      "            macro avg       0.76      0.76      0.76     12100\n",
      "         weighted avg       0.84      0.84      0.84     12100\n",
      "\n"
     ]
    },
    {
     "name": "stderr",
     "output_type": "stream",
     "text": [
      "D:\\Python\\envs\\torch\\lib\\site-packages\\sklearn\\linear_model\\_logistic.py:460: ConvergenceWarning: lbfgs failed to converge (status=1):\n",
      "STOP: TOTAL NO. of ITERATIONS REACHED LIMIT.\n",
      "\n",
      "Increase the number of iterations (max_iter) or scale the data as shown in:\n",
      "    https://scikit-learn.org/stable/modules/preprocessing.html\n",
      "Please also refer to the documentation for alternative solver options:\n",
      "    https://scikit-learn.org/stable/modules/linear_model.html#logistic-regression\n",
      "  n_iter_i = _check_optimize_result(\n",
      "D:\\Python\\envs\\torch\\lib\\site-packages\\sklearn\\linear_model\\_logistic.py:460: ConvergenceWarning: lbfgs failed to converge (status=1):\n",
      "STOP: TOTAL NO. of ITERATIONS REACHED LIMIT.\n",
      "\n",
      "Increase the number of iterations (max_iter) or scale the data as shown in:\n",
      "    https://scikit-learn.org/stable/modules/preprocessing.html\n",
      "Please also refer to the documentation for alternative solver options:\n",
      "    https://scikit-learn.org/stable/modules/linear_model.html#logistic-regression\n",
      "  n_iter_i = _check_optimize_result(\n"
     ]
    },
    {
     "name": "stdout",
     "output_type": "stream",
     "text": [
      "LR\n",
      "                       precision    recall  f1-score   support\n",
      "\n",
      "         Alarm-Update       0.98      0.93      0.96      1264\n",
      "           Audio-Play       0.74      0.50      0.59       226\n",
      "       Calendar-Query       0.99      0.95      0.97      1214\n",
      "        FilmTele-Play       0.70      0.93      0.80      1355\n",
      "HomeAppliance-Control       0.94      0.97      0.96      1215\n",
      "           Music-Play       0.88      0.87      0.87      1304\n",
      "                Other       0.39      0.07      0.11       214\n",
      "         Radio-Listen       0.94      0.89      0.92      1285\n",
      "       TVProgram-Play       0.72      0.45      0.55       240\n",
      "         Travel-Query       0.92      0.96      0.94      1220\n",
      "           Video-Play       0.90      0.87      0.88      1334\n",
      "        Weather-Query       0.92      0.96      0.94      1229\n",
      "\n",
      "             accuracy                           0.89     12100\n",
      "            macro avg       0.84      0.78      0.79     12100\n",
      "         weighted avg       0.89      0.89      0.89     12100\n",
      "\n"
     ]
    },
    {
     "name": "stderr",
     "output_type": "stream",
     "text": [
      "D:\\Python\\envs\\torch\\lib\\site-packages\\sklearn\\svm\\_classes.py:32: FutureWarning: The default value of `dual` will change from `True` to `'auto'` in 1.5. Set the value of `dual` explicitly to suppress the warning.\n",
      "  warnings.warn(\n",
      "D:\\Python\\envs\\torch\\lib\\site-packages\\sklearn\\svm\\_classes.py:32: FutureWarning: The default value of `dual` will change from `True` to `'auto'` in 1.5. Set the value of `dual` explicitly to suppress the warning.\n",
      "  warnings.warn(\n",
      "D:\\Python\\envs\\torch\\lib\\site-packages\\sklearn\\svm\\_classes.py:32: FutureWarning: The default value of `dual` will change from `True` to `'auto'` in 1.5. Set the value of `dual` explicitly to suppress the warning.\n",
      "  warnings.warn(\n",
      "D:\\Python\\envs\\torch\\lib\\site-packages\\sklearn\\svm\\_classes.py:32: FutureWarning: The default value of `dual` will change from `True` to `'auto'` in 1.5. Set the value of `dual` explicitly to suppress the warning.\n",
      "  warnings.warn(\n",
      "D:\\Python\\envs\\torch\\lib\\site-packages\\sklearn\\svm\\_classes.py:32: FutureWarning: The default value of `dual` will change from `True` to `'auto'` in 1.5. Set the value of `dual` explicitly to suppress the warning.\n",
      "  warnings.warn(\n"
     ]
    },
    {
     "name": "stdout",
     "output_type": "stream",
     "text": [
      "SVM\n",
      "                       precision    recall  f1-score   support\n",
      "\n",
      "         Alarm-Update       0.97      0.95      0.96      1264\n",
      "           Audio-Play       0.64      0.71      0.67       226\n",
      "       Calendar-Query       0.98      0.97      0.98      1214\n",
      "        FilmTele-Play       0.81      0.89      0.85      1355\n",
      "HomeAppliance-Control       0.97      0.98      0.98      1215\n",
      "           Music-Play       0.90      0.89      0.89      1304\n",
      "                Other       0.31      0.25      0.27       214\n",
      "         Radio-Listen       0.94      0.90      0.92      1285\n",
      "       TVProgram-Play       0.66      0.62      0.64       240\n",
      "         Travel-Query       0.95      0.98      0.97      1220\n",
      "           Video-Play       0.92      0.88      0.90      1334\n",
      "        Weather-Query       0.96      0.97      0.97      1229\n",
      "\n",
      "             accuracy                           0.91     12100\n",
      "            macro avg       0.83      0.83      0.83     12100\n",
      "         weighted avg       0.91      0.91      0.91     12100\n",
      "\n"
     ]
    }
   ],
   "source": [
    "cv_pred = cross_val_predict(\n",
    "    KNeighborsClassifier(),\n",
    "    train_tfidf,\n",
    "    train_data[1]\n",
    ")\n",
    "\n",
    "print('------------- 交叉验证 ------------- ')\n",
    "print('KNN')\n",
    "print(classification_report(train_data[1], cv_pred))\n",
    "\n",
    "cv_pred = cross_val_predict(\n",
    "    LogisticRegression(),\n",
    "    train_tfidf,\n",
    "    train_data[1]\n",
    ")\n",
    "print('LR')\n",
    "print(classification_report(train_data[1], cv_pred))\n",
    "\n",
    "cv_pred = cross_val_predict(\n",
    "    LinearSVC(),\n",
    "    train_tfidf,\n",
    "    train_data[1]\n",
    ")\n",
    "\n",
    "print(\"SVM\")\n",
    "print(classification_report(train_data[1], cv_pred))\n"
   ]
  },
  {
   "cell_type": "markdown",
   "id": "6a6fda25",
   "metadata": {},
   "source": [
    "- 交叉验证发现SVM效果最好，准确率达到91%\n",
    "- weighted avg的准召和f1值都是91%"
   ]
  },
  {
   "cell_type": "code",
   "execution_count": 25,
   "id": "efb98b5d",
   "metadata": {},
   "outputs": [
    {
     "name": "stdout",
     "output_type": "stream",
     "text": [
      "------------- 测试集效果 -------------\n"
     ]
    },
    {
     "name": "stderr",
     "output_type": "stream",
     "text": [
      "D:\\Python\\envs\\torch\\lib\\site-packages\\sklearn\\svm\\_classes.py:32: FutureWarning: The default value of `dual` will change from `True` to `'auto'` in 1.5. Set the value of `dual` explicitly to suppress the warning.\n",
      "  warnings.warn(\n"
     ]
    }
   ],
   "source": [
    "print(\"------------- 测试集效果 -------------\")\n",
    "model = LinearSVC()\n",
    "model.fit(train_tfidf, train_data[1])\n",
    "\n",
    "pd.DataFrame({\n",
    "    'ID': range(1, len(test_data)+1),\n",
    "    'Target': model.predict(test_tfidf)\n",
    "}).to_csv('svm.csv', index=None)"
   ]
  }
 ],
 "metadata": {
  "kernelspec": {
   "display_name": "Python 3 (ipykernel)",
   "language": "python",
   "name": "python3"
  },
  "language_info": {
   "codemirror_mode": {
    "name": "ipython",
    "version": 3
   },
   "file_extension": ".py",
   "mimetype": "text/x-python",
   "name": "python",
   "nbconvert_exporter": "python",
   "pygments_lexer": "ipython3",
   "version": "3.8.17"
  }
 },
 "nbformat": 4,
 "nbformat_minor": 5
}
