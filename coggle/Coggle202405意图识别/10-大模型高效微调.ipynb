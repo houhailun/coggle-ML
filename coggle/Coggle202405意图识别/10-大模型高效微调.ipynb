{
 "cells": [
  {
   "cell_type": "markdown",
   "id": "6e240e5a",
   "metadata": {},
   "source": [
    "http://discussion.coggle.club/t/topic/222\n",
    "    \n",
    "https://github.com/coggle-club/notebooks/blob/main/notebooks/Coggle202405%E6%84%8F%E5%9B%BE%E8%AF%86%E5%88%AB/13-Qwen%E5%A4%A7%E6%A8%A1%E5%9E%8B%E5%BE%AE%E8%B0%83%E6%96%87%E6%9C%AC%E5%88%86%E7%B1%BB.ipynb\n"
   ]
  },
  {
   "cell_type": "code",
   "execution_count": null,
   "id": "7d4048c8",
   "metadata": {},
   "outputs": [],
   "source": []
  }
 ],
 "metadata": {
  "kernelspec": {
   "display_name": "Python 3 (ipykernel)",
   "language": "python",
   "name": "python3"
  },
  "language_info": {
   "codemirror_mode": {
    "name": "ipython",
    "version": 3
   },
   "file_extension": ".py",
   "mimetype": "text/x-python",
   "name": "python",
   "nbconvert_exporter": "python",
   "pygments_lexer": "ipython3",
   "version": "3.8.17"
  }
 },
 "nbformat": 4,
 "nbformat_minor": 5
}
