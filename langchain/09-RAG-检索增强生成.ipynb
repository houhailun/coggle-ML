{
 "cells": [
  {
   "cell_type": "markdown",
   "id": "cebee2d6",
   "metadata": {},
   "source": [
    "# RAG-增强检索生成 (Retrieval-Augmented Generation)\n",
    "前面提到的 引入外部知识库的文档问答（QA based Documents）已经算是一个最基础的 RAG 了，这里再扩展一下，增加两个重要特性：\n",
    "\n",
    "1. 在context 中 引入来自互联网搜索的知识\n",
    "2. 使用自定义LLM"
   ]
  },
  {
   "cell_type": "markdown",
   "id": "73eefcfb",
   "metadata": {},
   "source": [
    "## web search"
   ]
  },
  {
   "cell_type": "code",
   "execution_count": 1,
   "id": "3051a656",
   "metadata": {},
   "outputs": [
    {
     "name": "stdout",
     "output_type": "stream",
     "text": [
      "Collecting duckduckgo_search\n",
      "  Downloading duckduckgo_search-6.1.7-py3-none-any.whl.metadata (19 kB)\n",
      "Requirement already satisfied: click>=8.1.7 in d:\\python\\envs\\py310\\lib\\site-packages (from duckduckgo_search) (8.1.7)\n",
      "Collecting pyreqwest-impersonate>=0.4.8 (from duckduckgo_search)\n",
      "  Downloading pyreqwest_impersonate-0.4.8-cp310-none-win_amd64.whl.metadata (9.9 kB)\n",
      "Requirement already satisfied: orjson>=3.10.5 in d:\\python\\envs\\py310\\lib\\site-packages (from duckduckgo_search) (3.10.5)\n",
      "Requirement already satisfied: colorama in d:\\python\\envs\\py310\\lib\\site-packages (from click>=8.1.7->duckduckgo_search) (0.4.6)\n",
      "Downloading duckduckgo_search-6.1.7-py3-none-any.whl (24 kB)\n",
      "Downloading pyreqwest_impersonate-0.4.8-cp310-none-win_amd64.whl (2.6 MB)\n",
      "   ---------------------------------------- 0.0/2.6 MB ? eta -:--:--\n",
      "    --------------------------------------- 0.0/2.6 MB 991.0 kB/s eta 0:00:03\n",
      "   - -------------------------------------- 0.1/2.6 MB 1.4 MB/s eta 0:00:02\n",
      "   ----- ---------------------------------- 0.3/2.6 MB 2.5 MB/s eta 0:00:01\n",
      "   -------- ------------------------------- 0.6/2.6 MB 3.3 MB/s eta 0:00:01\n",
      "   ----------- ---------------------------- 0.8/2.6 MB 3.7 MB/s eta 0:00:01\n",
      "   ------------------- -------------------- 1.3/2.6 MB 4.8 MB/s eta 0:00:01\n",
      "   ---------------------- ----------------- 1.5/2.6 MB 4.8 MB/s eta 0:00:01\n",
      "   ------------------------------- -------- 2.0/2.6 MB 5.6 MB/s eta 0:00:01\n",
      "   ------------------------------------- -- 2.4/2.6 MB 6.2 MB/s eta 0:00:01\n",
      "   ------------------------------------- -- 2.4/2.6 MB 6.2 MB/s eta 0:00:01\n",
      "   ------------------------------------- -- 2.4/2.6 MB 5.0 MB/s eta 0:00:01\n",
      "   ------------------------------------- -- 2.5/2.6 MB 4.6 MB/s eta 0:00:01\n",
      "   -------------------------------------- - 2.5/2.6 MB 4.4 MB/s eta 0:00:01\n",
      "   ---------------------------------------- 2.6/2.6 MB 4.1 MB/s eta 0:00:00\n",
      "Installing collected packages: pyreqwest-impersonate, duckduckgo_search\n",
      "Successfully installed duckduckgo_search-6.1.7 pyreqwest-impersonate-0.4.8\n"
     ]
    }
   ],
   "source": [
    "# 联网搜索引擎\n",
    "!pip install duckduckgo_search"
   ]
  },
  {
   "cell_type": "code",
   "execution_count": 2,
   "id": "a2f56760",
   "metadata": {},
   "outputs": [
    {
     "name": "stdout",
     "output_type": "stream",
     "text": [
      "{'title': '\"床前明月光，疑是地上霜。举头望明月，低头思故乡。\"全诗 ...', 'href': 'https://www.kekeshici.com/shicimingju/ticai/sixiang/38404.html', 'body': '本网页介绍了唐代诗人李白的名篇《静夜思》，分析了诗句的出处、释义、点评、鉴赏、题解等内容，展示了诗人的思乡之情和诗歌的魅力。如果你想了解李白的《静夜思》，这里有详细的解释和例子。'}\n",
      "{'title': '李白《静夜思》赏析', 'href': 'https://baijiahao.baidu.com/s?id=1778009756954458586', 'body': '本文分析了李白的代表作《静夜思》，介绍了诗中的对仗、比喻、辞藻等修辞手法，以及诗中的情感和意境。文章还对比了《静夜思》与其他唐代诗词，评价了诗词的艺术和历史价值。'}\n",
      "{'title': '李白静夜思全文、注释、翻译和赏析_唐代', 'href': 'https://www.yuwenmi.com/shici/shiren/5143436.html', 'body': '李白静夜思全文、注释、翻译和赏析_唐代. 静夜思. 朝代：唐代|作者：李白. 床前明月光，疑是地上霜。 举头望明月，低头思故乡。 译文/注释. 直译. 明亮的月光洒在床前的窗户纸上，好像地上泛起了一层霜。 我禁不住抬起头来，看那天窗外空中的一轮明月，不由得低头沉思，想起远方的家乡。 韵译. 皎洁月光洒满床，恰似朦胧一片霜。 仰首只见月一轮，低头教人倍思乡。 注释. ⑴静夜思：静静的夜里，产生的思绪。 ⑵床：今传五种说法。 一指井台。 已经有学者撰文考证过。 中国教育家协会理事程实将考证结果写成论文发表在刊物上，还和好友创作了《诗意图》。 二指井栏。 从考古发现来看，中国最早的水井是木结构水井。 古代井栏有数米高，成方框形围住井口，防止人跌入井内，这方框形既像四堵墙，又像古代的床。'}\n",
      "{'title': '床前明月光的，下一句是什么？ - 知乎', 'href': 'https://www.zhihu.com/question/642156101', 'body': '\" 床前明月光 \"的下一句是\"疑是地上霜\"，这两句诗出自唐代诗人李白的《 静夜思 》。 这首诗用简洁而又朴素的语言，描绘了秋日夜晚， 旅居 在外的抒情主人公在屋内抬头望月时的所见所思，表达了客居思乡之情。'}\n",
      "{'title': '古诗词赏析-《静夜思》李白', 'href': 'https://baijiahao.baidu.com/s?id=1789862637030820862', 'body': '古诗词赏析-《静夜思》李白. 全文如下：. 床前明月光，疑是地上霜。. 举头望明月，低头思故乡。. 此诗描写了秋日夜晚，旅居在外的诗人于屋内抬头望月而思念家乡的感受。. 前两句写诗人在作客他乡的特定环境中一刹那间所产生的错觉；后两句通过 ...'}\n"
     ]
    }
   ],
   "source": [
    "# 先来体验下\n",
    "from duckduckgo_search import DDGS\n",
    "\n",
    "with DDGS() as ddgs:\n",
    "    for r in ddgs.text('床前明月光', region='cn-zh', safesearch='off', timelimit='y', max_results=5):\n",
    "        print(r)"
   ]
  },
  {
   "cell_type": "code",
   "execution_count": 3,
   "id": "d5dd6e64",
   "metadata": {},
   "outputs": [],
   "source": [
    "def search_web(keywords, region='cn-zh', max_results=3):\n",
    "    web_content = \"\"\n",
    "    with DDGS() as ddgs:\n",
    "        ddgs_gen = ddgs.text(keywords=keywords, region=region, safesearch='off',\n",
    "                            timelimit='y', max_results=max_results)\n",
    "        for r in ddgs_gen:\n",
    "            web_content += (r['body'] + '\\n')\n",
    "        \n",
    "    return web_content"
   ]
  },
  {
   "cell_type": "markdown",
   "id": "780176bf",
   "metadata": {},
   "source": [
    "## 自定义LLM\n",
    "\n",
    "- 使用chatGLM"
   ]
  },
  {
   "cell_type": "code",
   "execution_count": 5,
   "id": "808f1d37",
   "metadata": {},
   "outputs": [],
   "source": [
    "from dotenv import load_dotenv, find_dotenv\n",
    "import os\n",
    "_ = load_dotenv(find_dotenv()) # read local .env file"
   ]
  },
  {
   "cell_type": "code",
   "execution_count": 6,
   "id": "9242d1b8",
   "metadata": {},
   "outputs": [],
   "source": [
    "zhipu_api_key = os.environ[\"ZHIPUAI_API_KEY\"]"
   ]
  },
  {
   "cell_type": "code",
   "execution_count": 11,
   "id": "ab5ead12",
   "metadata": {},
   "outputs": [],
   "source": [
    "\n",
    "\n",
    "# here put the import lib\n",
    "from typing import Any, List, Mapping, Optional, Dict\n",
    "from langchain.llms.base import LLM\n",
    "from zhipuai import ZhipuAI\n",
    "\n",
    "import os\n",
    "\n",
    "# 继承自 langchain.llms.base.LLM\n",
    "class ZhipuAILLM(LLM):\n",
    "    # 默认选用 glm-3-turbo\n",
    "    model: str = \"glm-3-turbo\"\n",
    "    # 温度系数\n",
    "    temperature: float = 0.1\n",
    "    # API_Key\n",
    "    api_key: str = zhipu_api_key\n",
    "    \n",
    "    def _call(self, prompt : str, stop: Optional[List[str]] = None,\n",
    "                run_manager: Optional[CallbackManagerForLLMRun] = None,\n",
    "                **kwargs: Any):\n",
    "        client = ZhipuAI(\n",
    "            api_key = self.api_key\n",
    "        )\n",
    "\n",
    "        def gen_glm_params(prompt):\n",
    "            '''\n",
    "            构造 GLM 模型请求参数 messages\n",
    "\n",
    "            请求参数：\n",
    "                prompt: 对应的用户提示词\n",
    "            '''\n",
    "            messages = [{\"role\": \"user\", \"content\": prompt}]\n",
    "            return messages\n",
    "        \n",
    "        messages = gen_glm_params(prompt)\n",
    "        response = client.chat.completions.create(\n",
    "            model = self.model,\n",
    "            messages = messages,\n",
    "            temperature = self.temperature\n",
    "        )\n",
    "\n",
    "        if len(response.choices) > 0:\n",
    "            return response.choices[0].message.content\n",
    "        return \"generate answer error\"\n",
    "\n",
    "\n",
    "    # 首先定义一个返回默认参数的方法\n",
    "    @property\n",
    "    def _default_params(self) -> Dict[str, Any]:\n",
    "        \"\"\"获取调用API的默认参数。\"\"\"\n",
    "        normal_params = {\n",
    "            \"temperature\": self.temperature,\n",
    "            }\n",
    "        # print(type(self.model_kwargs))\n",
    "        return {**normal_params}\n",
    "\n",
    "    @property\n",
    "    def _llm_type(self) -> str:\n",
    "        return \"Zhipu\"\n",
    "\n",
    "    @property\n",
    "    def _identifying_params(self) -> Mapping[str, Any]:\n",
    "        \"\"\"Get the identifying parameters.\"\"\"\n",
    "        return {**{\"model\": self.model}, **self._default_params}"
   ]
  },
  {
   "cell_type": "code",
   "execution_count": 16,
   "id": "669d47ce",
   "metadata": {},
   "outputs": [
    {
     "data": {
      "text/plain": [
       "AIMessage(content='你好！有什么我可以帮忙的吗？', response_metadata={'token_usage': {'question_tokens': 1, 'prompt_tokens': 1, 'completion_tokens': 7, 'total_tokens': 8}}, id='run-8f675e5c-ad2b-441b-82f7-73a5d63411eb-0')"
      ]
     },
     "execution_count": 16,
     "metadata": {},
     "output_type": "execute_result"
    }
   ],
   "source": [
    "# 科大讯飞\n",
    "\n",
    "\n",
    "\n",
    "spark_appid = os.environ['spark_appid']\n",
    "spark_api_secret = os.environ['spark_api_secret']\n",
    "spark_api_key = os.environ['spark_api_key']\n",
    "\n",
    "\n",
    "from langchain_community.chat_models import ChatSparkLLM\n",
    "\n",
    "\n",
    "llm = ChatSparkLLM(\n",
    "    spark_app_id=spark_appid, spark_api_key=spark_api_key, spark_api_secret=spark_api_secret\n",
    ")\n",
    "\n",
    "llm.invoke('你好')"
   ]
  },
  {
   "cell_type": "markdown",
   "id": "4898c6fc",
   "metadata": {},
   "source": [
    "##  知识库加载与嵌入"
   ]
  },
  {
   "cell_type": "code",
   "execution_count": 13,
   "id": "ab7544aa",
   "metadata": {},
   "outputs": [
    {
     "name": "stdout",
     "output_type": "stream",
     "text": [
      "You have 1 document\n",
      "You have 13637 characters in that document\n",
      "Now you have 6 documents that have an average of 2,272 characters (smaller pieces)\n"
     ]
    },
    {
     "data": {
      "text/plain": [
       "<langchain_community.vectorstores.faiss.FAISS at 0x1fdd656d1e0>"
      ]
     },
     "execution_count": 13,
     "metadata": {},
     "output_type": "execute_result"
    }
   ],
   "source": [
    "from langchain.document_loaders import TextLoader\n",
    "from langchain.text_splitter import RecursiveCharacterTextSplitter\n",
    "\n",
    "loader = TextLoader('./data/wonderland.txt', 'utf-8')\n",
    "doc = loader.load()\n",
    "print (f\"You have {len(doc)} document\")\n",
    "print (f\"You have {len(doc[0].page_content)} characters in that document\")\n",
    "\n",
    "# 将文档分割为多个部分\n",
    "text_splitter = RecursiveCharacterTextSplitter(\n",
    "    chunk_size=3000,\n",
    "    chunk_overlap=400\n",
    ")\n",
    "docs = text_splitter.split_documents(doc)\n",
    "\n",
    "# 获取字符的总数，以便可以计算平均值\n",
    "num_total_characters = sum([len(x.page_content) for x in docs])\n",
    "print (f\"Now you have {len(docs)} documents that have an average of {num_total_characters / len(docs):,.0f} characters (smaller pieces)\")\n",
    "\n",
    "# Emb文档，然后使用伪数据将文档和原始文本结合起来\n",
    "from langchain.embeddings import SentenceTransformerEmbeddings\n",
    "from langchain.vectorstores import FAISS\n",
    "\n",
    "embeddings = SentenceTransformerEmbeddings(model_name=\"D:/code/models/M3E/xrunda/m3e-base\")\n",
    "vector_store = FAISS.from_documents(docs, embeddings)\n",
    "\n",
    "vector_store"
   ]
  },
  {
   "cell_type": "code",
   "execution_count": 14,
   "id": "448f52f2",
   "metadata": {},
   "outputs": [],
   "source": [
    "# 链\n",
    "from langchain.chains import RetrievalQA\n",
    "from langchain.prompts import PromptTemplate\n",
    "\n",
    "def get_knowledge_based_answer(query,\n",
    "                               vector_store,\n",
    "                               VECTOR_SEARCH_TOP_K,\n",
    "                               history_len,\n",
    "                               temperature,\n",
    "                               top_p,\n",
    "                               chat_history=[]):\n",
    "    \n",
    "    web_content = search_web(query)\n",
    "\n",
    "    prompt_template = f\"\"\"基于以下已知信息，简洁和专业的来回答末尾的问题。\n",
    "                        如果无法从中得到答案，请说 \"根据已知信息无法回答该问题\" 或 \"没有提供足够的相关信息\"，不允许在答案中添加编造成分。\n",
    "                        已知网络检索内容：{web_content}\"\"\" + \"\"\"\n",
    "                        已知本地知识库内容:\n",
    "                        {context}\n",
    "                        问题:\n",
    "                        {question}\"\"\"   \n",
    "        \n",
    "    prompt = PromptTemplate(template=prompt_template, input_variables=[\"context\", \"question\"])\n",
    "\n",
    "    #llm.history = chat_history[-history_len:] if history_len > 0 else []\n",
    "\n",
    "    \n",
    "    knowledge_chain = RetrievalQA.from_llm(\n",
    "        llm=llm,\n",
    "        #retriever=vector_store.as_retriever(search_kwargs={\"k\": VECTOR_SEARCH_TOP_K}),\n",
    "        retriever=vector_store.as_retriever(),\n",
    "        prompt=prompt, \n",
    "        verbose=True)    \n",
    "\n",
    "    knowledge_chain.combine_documents_chain.document_prompt = PromptTemplate(\n",
    "        input_variables=[\"page_content\"], template=\"{page_content}\")\n",
    "\n",
    "    knowledge_chain.return_source_documents = True\n",
    "\n",
    "\n",
    "    print(f\"-> web_content: {web_content}, prompt: {prompt}, query: {query}\" )\n",
    "    result = knowledge_chain({\"query\": query})\n",
    "    return result"
   ]
  },
  {
   "cell_type": "code",
   "execution_count": 17,
   "id": "c80c2c20",
   "metadata": {},
   "outputs": [
    {
     "name": "stdout",
     "output_type": "stream",
     "text": [
      "-> web_content: He is best known as the author of the children's book Alice's Adventures in Wonderland (1865) and its sequel Through the Looking-Glass (1871)—two of the most popular works of fiction in the English language.\n",
      "As Charles L. Dodgson, he was the author of a fair number of books on mathematics, none of enduring importance, although Euclid and His Modern Rivals (1879) is of some historical interest.\n",
      "Lewis Carroll was an English author, poet and mathematician famous for Alice's Adventures in Wonderland and Through the Looking-Glass. He was known for his mastery of wordplay, logic and fantasy. Lewis Carroll's Profile. The Origins of Alice's Adventures in Wonderland.\n",
      ", prompt: input_variables=['context', 'question'] template='基于以下已知信息，简洁和专业的来回答末尾的问题。\\n                        如果无法从中得到答案，请说 \"根据已知信息无法回答该问题\" 或 \"没有提供足够的相关信息\"，不允许在答案中添加编造成分。\\n                        已知网络检索内容：He is best known as the author of the children\\'s book Alice\\'s Adventures in Wonderland (1865) and its sequel Through the Looking-Glass (1871)—two of the most popular works of fiction in the English language.\\nAs Charles L. Dodgson, he was the author of a fair number of books on mathematics, none of enduring importance, although Euclid and His Modern Rivals (1879) is of some historical interest.\\nLewis Carroll was an English author, poet and mathematician famous for Alice\\'s Adventures in Wonderland and Through the Looking-Glass. He was known for his mastery of wordplay, logic and fantasy. Lewis Carroll\\'s Profile. The Origins of Alice\\'s Adventures in Wonderland.\\n\\n                        已知本地知识库内容:\\n                        {context}\\n                        问题:\\n                        {question}', query: Who is the author of the Alice in Wonderland?\n",
      "\n",
      "\n",
      "\u001b[1m> Entering new RetrievalQA chain...\u001b[0m\n"
     ]
    },
    {
     "name": "stderr",
     "output_type": "stream",
     "text": [
      "D:\\Python\\envs\\py310\\lib\\site-packages\\langchain_core\\_api\\deprecation.py:139: LangChainDeprecationWarning: The method `Chain.__call__` was deprecated in langchain 0.1.0 and will be removed in 0.3.0. Use invoke instead.\n",
      "  warn_deprecated(\n"
     ]
    },
    {
     "name": "stdout",
     "output_type": "stream",
     "text": [
      "\n",
      "\u001b[1m> Finished chain.\u001b[0m\n",
      "{'query': 'Who is the author of the Alice in Wonderland?', 'result': 'Lewis Carroll', 'source_documents': [Document(page_content='Alice was beginning to get very tired of sitting by her sister on the bank, and of having nothing to do: once or twice she had peeped into the book her sister was reading, but it had no pictures or conversations in it, “and what is the use of a book,” thought Alice “without pictures or conversations?” So she was considering in her own mind (as well as she could, for the hot day made her feel very sleepy and stupid), whether the pleasure of making a daisy-chain would be worth the trouble of getting up and picking the daisies, when suddenly a White Rabbit with pink eyes ran close by her. There was nothing so very remarkable in that; nor did Alice think it so very much out of the way to hear the Rabbit say to itself, “Oh dear! Oh dear! I shall be late!” (when she thought it over afterwards, it occurred to her that she ought to have wondered at this, but at the time it all seemed quite natural); but when the Rabbit actually took a watch out of its waistcoat-pocket, and looked at it, and then hurried on, Alice started to her feet, for it flashed across her mind that she had never before seen a rabbit with either a waistcoat-pocket, or a watch to take out of it, and burning with curiosity, she ran across the field after it, and fortunately was just in time to see it pop down a large rabbit-hole under the hedge.\\nAfter a time she heard a little pattering of feet in the distance, and she hastily dried her eyes to see what was coming. It was the White Rabbit returning, splendidly dressed, with a pair of white kid gloves in one hand and a large fan in the other: he came trotting along in a great hurry, muttering to himself as he came, “Oh! the Duchess, the Duchess! Oh! won’t she be savage if I’ve kept her waiting!” Alice felt so desperate that she was ready to ask help of any one; so, when the Rabbit came near her, she began, in a low, timid voice, “If you please, sir—” The Rabbit started violently, dropped the white kid gloves and the fan, and skurried away into the darkness as hard as he could go. Alice took up the fan and gloves, and, as the hall was very hot, she kept fanning herself all the time she went on talking: “Dear, dear! How queer everything is to-day! And yesterday things went on just as usual. I wonder if I’ve been changed in the night? Let me think: was I the same when I got up this morning? I almost think I can remember feeling a little different. But if I’m not the same, the next question is, Who in the world am I? Ah, that’s the great puzzle!” And she began thinking over all the children she knew that were of the same age as herself, to see if she could have been changed for any of them.', metadata={'source': './data/wonderland.txt'}), Document(page_content='But her sister sat still just as she left her, leaning her head on her hand, watching the setting sun, and thinking of little Alice and all her wonderful Adventures, till she too began dreaming after a fashion, and this was her dream:— First, she dreamed of little Alice herself, and once again the tiny hands were clasped upon her knee, and the bright eager eyes were looking up into hers—she could hear the very tones of her voice, and see that queer little toss of her head to keep back the wandering hair that would always get into her eyes—and still as she listened, or seemed to listen, the whole place around her became alive with the strange creatures of her little sister’s dream. The long grass rustled at her feet as the White Rabbit hurried by—the frightened Mouse splashed his way through the neighbouring pool—she could hear the rattle of the teacups as the March Hare and his friends shared their never-ending meal, and the shrill voice of the Queen ordering off her unfortunate guests to execution—once more the pig-baby was sneezing on the Duchess’s knee, while plates and dishes crashed around it—once more the shriek of the Gryphon, the squeaking of the Lizard’s slate-pencil, and the choking of the suppressed guinea-pigs, filled the air, mixed up with the distant sobs of the miserable Mock Turtle. \\nAlice could see, as well as if she were looking over their shoulders, that all the jurors were writing down “stupid things!” on their slates, and she could even make out that one of them didn’t know how to spell “stupid,” and that he had to ask his neighbour to tell him. “A nice muddle their slates’ll be in before the trial’s over!” thought Alice. One of the jurors had a pencil that squeaked. This of course, Alice could not stand, and she went round the court and got behind him, and very soon found an opportunity of taking it away. She did it so quickly that the poor little juror (it was Bill, the Lizard) could not make out at all what had become of it; so, after hunting all about for it, he was obliged to write with one finger for the rest of the day; and this was of very little use, as it left no mark on the slate. “Herald, read the accusation!” said the King. On this the White Rabbit blew three blasts on the trumpet, and then unrolled the parchment scroll, and read as follows:', metadata={'source': './data/wonderland.txt'}), Document(page_content='Alice noticed with some surprise that the pebbles were all turning into little cakes as they lay on the floor, and a bright idea came into her head. “If I eat one of these cakes,” she thought, “it’s sure to make some change in my size; and as it can’t possibly make me larger, it must make me smaller, I suppose.” So she swallowed one of the cakes, and was delighted to find that she began shrinking directly. As soon as she was small enough to get through the door, she ran out of the house, and found quite a crowd of little animals and birds waiting outside. The poor little Lizard, Bill, was in the middle, being held up by two guinea-pigs, who were giving it something out of a bottle. They all made a rush at Alice the moment she appeared; but she ran off as hard as she could, and soon found herself safe in a thick wood. “The first thing I’ve got to do,” said Alice to herself, as she wandered about in the wood, “is to grow to my right size again; and the second thing is to find my way into that lovely garden. I think that will be the best plan.” It sounded an excellent plan, no doubt, and very neatly and simply arranged; the only difficulty was, that she had not the smallest idea how to set about it; and while she was peering about anxiously among the trees, a little sharp bark just over her head made her look up in a great hurry. An enormous puppy was looking down at her with large round eyes, and feebly stretching out one paw, trying to touch her. “Poor little thing!” said Alice, in a coaxing tone, and she tried hard to whistle to it; but she was terribly frightened all the time at the thought that it might be hungry, in which case it would be very likely to eat her up in spite of all her coaxing.', metadata={'source': './data/wonderland.txt'}), Document(page_content='It was the White Rabbit, trotting slowly back again, and looking anxiously about as it went, as if it had lost something; and she heard it muttering to itself “The Duchess! The Duchess! Oh my dear paws! Oh my fur and whiskers! She’ll get me executed, as sure as ferrets are ferrets! Where can I have dropped them, I wonder?” Alice guessed in a moment that it was looking for the fan and the pair of white kid gloves, and she very good-naturedly began hunting about for them, but they were nowhere to be seen—everything seemed to have changed since her swim in the pool, and the great hall, with the glass table and the little door, had vanished completely. Very soon the Rabbit noticed Alice, as she went hunting about, and called out to her in an angry tone, “Why, Mary Ann, what are you doing out here? Run home this moment, and fetch me a pair of gloves and a fan! Quick, now!” And Alice was so much frightened that she ran off at once in the direction it pointed to, without trying to explain the mistake it had made. “He took me for his housemaid,” she said to herself as she ran. “How surprised he’ll be when he finds out who I am! But I’d better take him his fan and gloves—that is, if I can find them.” As she said this, she came upon a neat little house, on the door of which was a bright brass plate with the name “W. RABBIT,” engraved upon it. She went in without knocking, and hurried upstairs, in great fear lest she should meet the real Mary Ann, and be turned out of the house before she had found the fan and gloves.', metadata={'source': './data/wonderland.txt'})]}\n"
     ]
    }
   ],
   "source": [
    "query = \"Who is the author of the Alice in Wonderland?\"\n",
    "resp = get_knowledge_based_answer(\n",
    "    query=query,\n",
    "    vector_store=vector_store,\n",
    "    VECTOR_SEARCH_TOP_K=6,\n",
    "    chat_history=[],\n",
    "    history_len=0,\n",
    "    temperature=0.1,\n",
    "    top_p=0.9,\n",
    ")\n",
    "print(resp)"
   ]
  },
  {
   "cell_type": "code",
   "execution_count": null,
   "id": "fd34d50e",
   "metadata": {},
   "outputs": [],
   "source": []
  }
 ],
 "metadata": {
  "kernelspec": {
   "display_name": "Python 3 (ipykernel)",
   "language": "python",
   "name": "python3"
  },
  "language_info": {
   "codemirror_mode": {
    "name": "ipython",
    "version": 3
   },
   "file_extension": ".py",
   "mimetype": "text/x-python",
   "name": "python",
   "nbconvert_exporter": "python",
   "pygments_lexer": "ipython3",
   "version": "3.10.13"
  }
 },
 "nbformat": 4,
 "nbformat_minor": 5
}
