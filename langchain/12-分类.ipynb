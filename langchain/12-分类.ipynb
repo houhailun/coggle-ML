{
 "cells": [
  {
   "cell_type": "markdown",
   "id": "b31d7b32",
   "metadata": {},
   "source": [
    "# 分类\n",
    "意图分类器"
   ]
  },
  {
   "cell_type": "code",
   "execution_count": 1,
   "id": "c980a312",
   "metadata": {},
   "outputs": [],
   "source": [
    "import os\n",
    "from dotenv import load_dotenv, find_dotenv\n",
    "\n",
    "_ = load_dotenv(find_dotenv())"
   ]
  },
  {
   "cell_type": "code",
   "execution_count": 2,
   "id": "f6066ff8",
   "metadata": {},
   "outputs": [],
   "source": [
    "from langchain_community.chat_models import ChatSparkLLM"
   ]
  },
  {
   "cell_type": "code",
   "execution_count": 3,
   "id": "a812cc82",
   "metadata": {},
   "outputs": [
    {
     "data": {
      "text/plain": [
       "AIMessage(content='你好！有什么我可以帮助你的吗？', response_metadata={'token_usage': {'question_tokens': 1, 'prompt_tokens': 1, 'completion_tokens': 8, 'total_tokens': 9}}, id='run-9122a4fc-9bbe-417b-9179-333f453dd3ca-0')"
      ]
     },
     "execution_count": 3,
     "metadata": {},
     "output_type": "execute_result"
    }
   ],
   "source": [
    "\n",
    "# 科大讯飞 LLM\n",
    "spark_appid = os.environ['spark_appid']\n",
    "spark_api_secret = os.environ['spark_api_secret']\n",
    "spark_api_key = os.environ['spark_api_key']\n",
    "\n",
    "\n",
    "llm = ChatSparkLLM(\n",
    "    spark_app_id=spark_appid, spark_api_key=spark_api_key, spark_api_secret=spark_api_secret\n",
    ")\n",
    "\n",
    "llm.invoke('你好')"
   ]
  },
  {
   "cell_type": "code",
   "execution_count": 4,
   "id": "eb3d9b92",
   "metadata": {},
   "outputs": [],
   "source": [
    "from langchain.prompts import PromptTemplate\n",
    "from langchain.chains import LLMChain\n",
    "import json\n",
    "\n",
    "INTENTS = [\n",
    "    \"play_internet_radio\", \n",
    "    \"play_song_by_artist\",\n",
    "    \"get_weather\",\n",
    "    \"current_time\",\n",
    "    \"set_timer\",\n",
    "    \"remind_me\",\n",
    "]\n",
    "\n",
    "def build_intent_classifier(intents=INTENTS):\n",
    "    template = (\n",
    "        \"Act as the intent classification component of a home assistant, similar to Amazon Alexa \"\n",
    "        \"(except your name is 'Becca', not 'Alexa').\\n\"\n",
    "        f\"Common intents include: {', '.join(intents)}, ...\\n\"\n",
    "        'You receive input in json format: `{{\"input\":...}}`\\n'\n",
    "        'You respond in json format: `{{\"intent\":..., \"arguments\":{{ ... }}, }}}}`\\n\\n'\n",
    "        '{{\"input\":{spoken_request}}}'\n",
    "    )\n",
    "\n",
    "    prompt = PromptTemplate(\n",
    "        input_variables=[\"spoken_request\"],\n",
    "        template=template,\n",
    "    )\n",
    "    return LLMChain(llm=llm, prompt=prompt)\n",
    "\n",
    "def evaluate(chain, text):\n",
    "    response = chain.run(text)\n",
    "    return response"
   ]
  },
  {
   "cell_type": "code",
   "execution_count": 5,
   "id": "6e02cb81",
   "metadata": {},
   "outputs": [],
   "source": [
    "chain = build_intent_classifier()"
   ]
  },
  {
   "cell_type": "code",
   "execution_count": 6,
   "id": "00d17bb0",
   "metadata": {},
   "outputs": [
    {
     "name": "stdout",
     "output_type": "stream",
     "text": [
      "{\"intent\": \"play_internet_radio\", \"arguments\": {\"station\": \"kexp\"}}\n"
     ]
    }
   ],
   "source": [
    "text = \"becca play kexp\"\n",
    "response = evaluate(chain, text)\n",
    "print(response)"
   ]
  },
  {
   "cell_type": "code",
   "execution_count": null,
   "id": "ee83fd80",
   "metadata": {},
   "outputs": [],
   "source": []
  }
 ],
 "metadata": {
  "kernelspec": {
   "display_name": "Python 3 (ipykernel)",
   "language": "python",
   "name": "python3"
  },
  "language_info": {
   "codemirror_mode": {
    "name": "ipython",
    "version": 3
   },
   "file_extension": ".py",
   "mimetype": "text/x-python",
   "name": "python",
   "nbconvert_exporter": "python",
   "pygments_lexer": "ipython3",
   "version": "3.10.13"
  }
 },
 "nbformat": 4,
 "nbformat_minor": 5
}
