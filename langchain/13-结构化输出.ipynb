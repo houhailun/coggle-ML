{
 "cells": [
  {
   "cell_type": "markdown",
   "id": "125c9f96",
   "metadata": {},
   "source": [
    "# 结构化输出(Structured Output)\n",
    "有时候我们希望输出的内容不是普通的字符串文本，而是像 json 那样结构化的数据，更能快捷高效地交付给下游业务使用。"
   ]
  },
  {
   "cell_type": "code",
   "execution_count": 2,
   "id": "2c1657f8",
   "metadata": {},
   "outputs": [],
   "source": [
    "import os\n",
    "from dotenv import load_dotenv, find_dotenv\n",
    "_ = load_dotenv(find_dotenv())"
   ]
  },
  {
   "cell_type": "code",
   "execution_count": 3,
   "id": "e966e669",
   "metadata": {},
   "outputs": [
    {
     "data": {
      "text/plain": [
       "AIMessage(content='你好！有什么我可以帮助你的吗？', response_metadata={'token_usage': {'question_tokens': 1, 'prompt_tokens': 1, 'completion_tokens': 8, 'total_tokens': 9}}, id='run-e5b5c1a6-3643-4d82-9b71-44907a6c8092-0')"
      ]
     },
     "execution_count": 3,
     "metadata": {},
     "output_type": "execute_result"
    }
   ],
   "source": [
    "from langchain_community.chat_models import ChatSparkLLM\n",
    "\n",
    "# 科大讯飞 LLM\n",
    "spark_appid = os.environ['spark_appid']\n",
    "spark_api_secret = os.environ['spark_api_secret']\n",
    "spark_api_key = os.environ['spark_api_key']\n",
    "\n",
    "\n",
    "llm = ChatSparkLLM(\n",
    "    spark_app_id=spark_appid, spark_api_key=spark_api_key, spark_api_secret=spark_api_secret\n",
    ")\n",
    "\n",
    "llm.invoke('你好')"
   ]
  },
  {
   "cell_type": "code",
   "execution_count": 4,
   "id": "63739c93",
   "metadata": {},
   "outputs": [],
   "source": [
    "from langchain.output_parsers import StructuredOutputParser, ResponseSchema\n",
    "from langchain.prompts import PromptTemplate"
   ]
  },
  {
   "cell_type": "code",
   "execution_count": 5,
   "id": "a96f1d4f",
   "metadata": {},
   "outputs": [
    {
     "data": {
      "text/plain": [
       "'The output should be a markdown code snippet formatted in the following schema, including the leading and trailing \"```json\" and \"```\":\\n\\n```json\\n{\\n\\t\"answer\": string  // answer to the user\\'s question\\n\\t\"source\": string  // source referred to answer the user\\'s question, should be a website.\\n}\\n```\\n Only markdown content, no other else!'"
      ]
     },
     "execution_count": 5,
     "metadata": {},
     "output_type": "execute_result"
    }
   ],
   "source": [
    "# 告诉他我们生成的内容需要哪些字段，每个字段类型式啥\n",
    "# 定义响应的结构(JSON)，两个字段 answer和source。\n",
    "response_schemas = [\n",
    "    ResponseSchema(name=\"answer\", description=\"answer to the user's question\"),\n",
    "    ResponseSchema(name=\"source\", description=\"source referred to answer the user's question, should be a website.\")\n",
    "]\n",
    "\n",
    "# 初始化解析器\n",
    "output_parser = StructuredOutputParser.from_response_schemas(response_schemas)\n",
    "\n",
    "# 获取响应格式化的指令\n",
    "format_instructions = output_parser.get_format_instructions()\n",
    "format_instructions += '\\n Only markdown content, no other else!'\n",
    "format_instructions"
   ]
  },
  {
   "cell_type": "code",
   "execution_count": 6,
   "id": "f32f2622",
   "metadata": {},
   "outputs": [],
   "source": [
    "# partial_variables允许在代码中预填充提示此模版的部分变量。这类似于接口，抽象类之间的关系prompt = PromptTemplate(\n",
    "#template=\"answer the users question as best as possible.\\n{format_instructions}\\n{question}\",\n",
    "template = \"\"\"\n",
    "answer the users question as best as possible.\n",
    "\n",
    "{format_instructions}\n",
    "\n",
    "% QUESTION:\n",
    "{question}\n",
    "\n",
    "\"\"\"\n",
    "\n",
    "\n",
    "# 将我们的格式描述嵌入到 prompt 中去，告诉 llm 我们需要他输出什么样格式的内容\n",
    "prompt = PromptTemplate(\n",
    "    input_variables=[\"question\"],\n",
    "    partial_variables={\"format_instructions\": format_instructions},\n",
    "    template=template\n",
    ")"
   ]
  },
  {
   "cell_type": "code",
   "execution_count": 14,
   "id": "044f2261",
   "metadata": {},
   "outputs": [
    {
     "name": "stdout",
     "output_type": "stream",
     "text": [
      "content='```json\\n{\\n\\t\"answer\": \"Paris\",\\n\\t\"source\": \"https://en.wikipedia.org/wiki/Capital_of_France\"\\n}\\n```' response_metadata={'token_usage': {'question_tokens': 120, 'prompt_tokens': 120, 'completion_tokens': 42, 'total_tokens': 162}} id='run-8f66c3b0-917a-470f-b6a9-631250815cfc-0'\n"
     ]
    }
   ],
   "source": [
    "response = prompt.format_prompt(question=\"what's the capital of France?\")\n",
    "\n",
    "output = llm.invoke(response.to_string())\n",
    "print(output)\n",
    "\n"
   ]
  },
  {
   "cell_type": "code",
   "execution_count": 22,
   "id": "8ca62417",
   "metadata": {},
   "outputs": [
    {
     "name": "stdout",
     "output_type": "stream",
     "text": [
      "<class 'langchain_core.messages.ai.AIMessage'>\n",
      "```json\n",
      "{\n",
      "\t\"answer\": \"Paris\",\n",
      "\t\"source\": \"https://en.wikipedia.org/wiki/Capital_of_France\"\n",
      "}\n",
      "```\n",
      "{'answer': 'Paris', 'source': 'https://en.wikipedia.org/wiki/Capital_of_France'}\n"
     ]
    }
   ],
   "source": [
    "print(type(output))\n",
    "\n",
    "ans = output_parser.parse(output.content)\n",
    "print(ans)"
   ]
  },
  {
   "cell_type": "code",
   "execution_count": null,
   "id": "14e6f7bb",
   "metadata": {},
   "outputs": [],
   "source": []
  }
 ],
 "metadata": {
  "kernelspec": {
   "display_name": "Python 3 (ipykernel)",
   "language": "python",
   "name": "python3"
  },
  "language_info": {
   "codemirror_mode": {
    "name": "ipython",
    "version": 3
   },
   "file_extension": ".py",
   "mimetype": "text/x-python",
   "name": "python",
   "nbconvert_exporter": "python",
   "pygments_lexer": "ipython3",
   "version": "3.10.13"
  }
 },
 "nbformat": 4,
 "nbformat_minor": 5
}
