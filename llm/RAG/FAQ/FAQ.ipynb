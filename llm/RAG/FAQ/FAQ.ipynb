{
 "cells": [
  {
   "cell_type": "code",
   "execution_count": 25,
   "id": "b258ccae",
   "metadata": {},
   "outputs": [],
   "source": [
    "import pandas as pd\n",
    "from langchain_community.embeddings import HuggingFaceEmbeddings\n",
    "from langchain.vectorstores import FAISS\n",
    "from langchain_community.chat_models import zhipuai\n",
    "from langchain.chains import RetrievalQA\n",
    "from langchain.prompts import PromptTemplate\n",
    "\n",
    "import numpy as np"
   ]
  },
  {
   "cell_type": "code",
   "execution_count": 57,
   "id": "463fc48a",
   "metadata": {},
   "outputs": [
    {
     "name": "stdout",
     "output_type": "stream",
     "text": [
      "  产品名称    成分   功能   价格\n",
      "0   变通  成分A1  功能A  100\n",
      "1  益生菌  成分B1  功能B  200\n",
      "2  大豆肽  成分C1  功能C  300\n"
     ]
    }
   ],
   "source": [
    "# step1：加载表格数据\n",
    "data = {\n",
    "    '产品名称': ['变通', '益生菌', '大豆肽'],\n",
    "    '成分': ['成分A1', '成分B1', '成分C1'],\n",
    "    '功能': ['功能A', '功能B', '功能C'],\n",
    "    '价格': [100, 200, 300]\n",
    "}\n",
    "df = pd.DataFrame(data)\n",
    "print(df)"
   ]
  },
  {
   "cell_type": "code",
   "execution_count": 102,
   "id": "862e9d0f",
   "metadata": {},
   "outputs": [
    {
     "name": "stdout",
     "output_type": "stream",
     "text": [
      "    分类       问题   答案\n",
      "0   变通  吃了拍不吃不拍  坚持吃\n",
      "1  益生菌   吃了肚子难受  少吃点\n"
     ]
    }
   ],
   "source": [
    "data = {\n",
    "    \"分类\": [\"变通\", \"益生菌\"],\n",
    "    \"问题\": [\"吃了拍不吃不拍\", \"吃了肚子难受\"],\n",
    "    \"答案\": [\"坚持吃\", \"少吃点\"]\n",
    "}\n",
    "df2 = pd.DataFrame(data)\n",
    "print(df2)"
   ]
  },
  {
   "cell_type": "code",
   "execution_count": 16,
   "id": "a9f5d3d3",
   "metadata": {},
   "outputs": [],
   "source": [
    "# step2：向量化产品名称\n",
    "embeddings = HuggingFaceEmbeddings(model_name='../../../../models/m3e-base/')"
   ]
  },
  {
   "cell_type": "code",
   "execution_count": 93,
   "id": "f061fda6",
   "metadata": {},
   "outputs": [],
   "source": [
    "# !pip install faiss-cpu\n",
    "\n",
    "from langchain.docstore.document import Document\n",
    "\n",
    "# 提取产品名称并获取向量\n",
    "product_names = df['产品名称'].tolist()\n",
    "# product_name_embeddings = embeddings.embed_documents(product_names)\n",
    "\n",
    "# 创建FAISS索引\n",
    "# vectorstore = FAISS.from_texts(product_names, embeddings)\n",
    "\n",
    "# 创建带有元数据的文档列表\n",
    "documents = [\n",
    "    Document(page_content=name, metadata={\n",
    "        'source': '产品',\n",
    "        '产品名称': row['产品名称'],\n",
    "        '成分': row['成分'],\n",
    "        '功能': row['功能'],\n",
    "        '价格': row['价格']\n",
    "    })\n",
    "    for name, row in zip(product_names, df.to_dict(orient='records'))\n",
    "]\n",
    "\n",
    "# 创建FAISS索引\n",
    "vectorstore = FAISS.from_documents(documents, embeddings)\n",
    "\n",
    "# 保存\n",
    "vectorstore.save_local(\"faiss_index\")\n",
    "\n"
   ]
  },
  {
   "cell_type": "code",
   "execution_count": 103,
   "id": "d231d7ba",
   "metadata": {},
   "outputs": [],
   "source": [
    "# !pip install faiss-cpu\n",
    "\n",
    "from langchain.docstore.document import Document\n",
    "\n",
    "# 提取产品名称并获取向量\n",
    "question_names = df2['问题'].tolist()\n",
    "category_names = df2['分类'].tolist()\n",
    "# question_name_embeddings = embeddings.embed_documents(question_names)\n",
    "\n",
    "# 创建FAISS索引\n",
    "# vectorstore = FAISS.from_texts(product_names, embeddings)\n",
    "\n",
    "# 创建带有元数据的文档列表\n",
    "documents = [\n",
    "    Document(page_content=f\"{row['分类']} {row['问题']}\", metadata={\n",
    "        'source': 'qa',\n",
    "        '问题': row['问题'],\n",
    "        '答案': row['答案']\n",
    "    })\n",
    "    for name, row in zip(question_names, df2.to_dict(orient='records'))\n",
    "]\n",
    "\n",
    "# 创建FAISS索引\n",
    "vectorstore = FAISS.from_documents(documents, embeddings)\n",
    "\n",
    "# 保存\n",
    "vectorstore.save_local(\"faiss_index_qa\")\n",
    "\n"
   ]
  },
  {
   "cell_type": "code",
   "execution_count": 104,
   "id": "05efebc8",
   "metadata": {},
   "outputs": [
    {
     "name": "stdout",
     "output_type": "stream",
     "text": [
      "vectorstore索引中的文档数量: 3\n",
      "文档ID: a9ca09ab-da0c-4b95-b63d-cba4df6a6708\n",
      "文档内容: 变通\n",
      "元数据: {'source': '产品', '产品名称': '变通', '成分': '成分A1', '功能': '功能A', '价格': 100}\n",
      "\n",
      "文档ID: 01d18a81-3964-4796-a22e-1abe409ac96a\n",
      "文档内容: 益生菌\n",
      "元数据: {'source': '产品', '产品名称': '益生菌', '成分': '成分B1', '功能': '功能B', '价格': 200}\n",
      "\n",
      "文档ID: 77411963-60ab-4f7f-85e6-d9d8eb7330a6\n",
      "文档内容: 大豆肽\n",
      "元数据: {'source': '产品', '产品名称': '大豆肽', '成分': '成分C1', '功能': '功能C', '价格': 300}\n",
      "\n",
      "vectorstore_qa索引中的文档数量: 2\n",
      "文档ID: 5490f41d-6504-495d-9301-06e062f1c0e5\n",
      "文档内容: 变通 吃了拍不吃不拍\n",
      "元数据: {'source': 'qa', '问题': '吃了拍不吃不拍', '答案': '坚持吃'}\n",
      "\n",
      "文档ID: a2764ad3-5a44-47b6-a641-b576c896545e\n",
      "文档内容: 益生菌 吃了肚子难受\n",
      "元数据: {'source': 'qa', '问题': '吃了肚子难受', '答案': '少吃点'}\n",
      "\n",
      "索引中的文档数量: 5\n",
      "文档ID: a9ca09ab-da0c-4b95-b63d-cba4df6a6708\n",
      "文档内容: 变通\n",
      "元数据: {'source': '产品', '产品名称': '变通', '成分': '成分A1', '功能': '功能A', '价格': 100}\n",
      "\n",
      "文档ID: 01d18a81-3964-4796-a22e-1abe409ac96a\n",
      "文档内容: 益生菌\n",
      "元数据: {'source': '产品', '产品名称': '益生菌', '成分': '成分B1', '功能': '功能B', '价格': 200}\n",
      "\n",
      "文档ID: 77411963-60ab-4f7f-85e6-d9d8eb7330a6\n",
      "文档内容: 大豆肽\n",
      "元数据: {'source': '产品', '产品名称': '大豆肽', '成分': '成分C1', '功能': '功能C', '价格': 300}\n",
      "\n",
      "文档ID: 5490f41d-6504-495d-9301-06e062f1c0e5\n",
      "文档内容: 变通 吃了拍不吃不拍\n",
      "元数据: {'source': 'qa', '问题': '吃了拍不吃不拍', '答案': '坚持吃'}\n",
      "\n",
      "文档ID: a2764ad3-5a44-47b6-a641-b576c896545e\n",
      "文档内容: 益生菌 吃了肚子难受\n",
      "元数据: {'source': 'qa', '问题': '吃了肚子难受', '答案': '少吃点'}\n",
      "\n"
     ]
    }
   ],
   "source": [
    "# 加载\n",
    "vectorstore = FAISS.load_local(\"faiss_index\", embeddings, allow_dangerous_deserialization=True)\n",
    "\n",
    "vectorstore_qa = FAISS.load_local(\"faiss_index_qa\", embeddings, allow_dangerous_deserialization=True)\n",
    "\n",
    "# print(vector_store.docstore)\n",
    "\n",
    "print(f\"vectorstore索引中的文档数量: {len(vectorstore.docstore._dict)}\")\n",
    "for doc_id, doc in list(vectorstore.docstore._dict.items())[:5]:\n",
    "    print(f\"文档ID: {doc_id}\")\n",
    "    print(f\"文档内容: {doc.page_content}\")\n",
    "    print(f\"元数据: {doc.metadata}\")\n",
    "    print()\n",
    "    \n",
    "# print(vectorstore_qa.docstore)\n",
    "\n",
    "print(f\"vectorstore_qa索引中的文档数量: {len(vectorstore_qa.docstore._dict)}\")\n",
    "for doc_id, doc in list(vectorstore_qa.docstore._dict.items())[:5]:\n",
    "    print(f\"文档ID: {doc_id}\")\n",
    "    print(f\"文档内容: {doc.page_content}\")\n",
    "    print(f\"元数据: {doc.metadata}\")\n",
    "    print()\n",
    "    \n",
    "    \n",
    "vectorstore.merge_from(vectorstore_qa)\n",
    "print(f\"索引中的文档数量: {len(vectorstore.docstore._dict)}\")\n",
    "for doc_id, doc in list(vectorstore.docstore._dict.items())[:5]:\n",
    "    print(f\"文档ID: {doc_id}\")\n",
    "    print(f\"文档内容: {doc.page_content}\")\n",
    "    print(f\"元数据: {doc.metadata}\")\n",
    "    print()\n"
   ]
  },
  {
   "cell_type": "code",
   "execution_count": 106,
   "id": "dd6bdc3b",
   "metadata": {},
   "outputs": [
    {
     "name": "stdout",
     "output_type": "stream",
     "text": [
      "[Document(metadata={'source': 'qa', '问题': '吃了肚子难受', '答案': '少吃点'}, page_content='益生菌 吃了肚子难受')]\n",
      "\n",
      "最相似的产品/问答信息:\n",
      "问题: 吃了肚子难受\n",
      "答案: 少吃点\n"
     ]
    }
   ],
   "source": [
    "\n",
    "\n",
    "# 重排模型（示例：简单排序）\n",
    "def rerank_products(products, query):\n",
    "    # 这里可以使用更复杂的重排模型，例如基于TF-IDF或BERT的重排\n",
    "    return products\n",
    "\n",
    "\n",
    "# 检索函数\n",
    "def search_similar_products(query, top_k=2):\n",
    "    try:\n",
    "        # 搜索最相似的产品名称\n",
    "        docs = vectorstore.similarity_search(query, k=top_k)\n",
    "        print(docs)\n",
    "        \n",
    "        # 提取元数据\n",
    "        similar_products = [doc.metadata for doc in docs]        \n",
    "        return similar_products\n",
    "    \n",
    "    except Exception as e:\n",
    "        raise Exception(str(e))\n",
    "\n",
    "# 示例查询\n",
    "if __name__ == \"__main__\":\n",
    "    query = \"益生菌 吃了你家产品后就拉肚子\"\n",
    "    top_k = 1\n",
    "    similar_products = search_similar_products(query, top_k)\n",
    "\n",
    "    print(\"\\n最相似的产品/问答信息:\")\n",
    "    for product in similar_products:\n",
    "        if product['source'] == '产品':\n",
    "            print(f\"产品名称: {product['产品名称']}\")\n",
    "            print(f\"成分: {product['成分']}\")\n",
    "            print(f\"功能: {product['功能']}\")\n",
    "            print(f\"价格: {product['价格']}\")\n",
    "            print()\n",
    "        elif product['source'] == 'qa':\n",
    "            print(f\"问题: {product['问题']}\")\n",
    "            print(f\"答案: {product['答案']}\")"
   ]
  },
  {
   "cell_type": "code",
   "execution_count": null,
   "id": "79d740f2",
   "metadata": {},
   "outputs": [],
   "source": []
  },
  {
   "cell_type": "code",
   "execution_count": null,
   "id": "eaee5e7a",
   "metadata": {},
   "outputs": [],
   "source": []
  }
 ],
 "metadata": {
  "kernelspec": {
   "display_name": "Python 3 (ipykernel)",
   "language": "python",
   "name": "python3"
  },
  "language_info": {
   "codemirror_mode": {
    "name": "ipython",
    "version": 3
   },
   "file_extension": ".py",
   "mimetype": "text/x-python",
   "name": "python",
   "nbconvert_exporter": "python",
   "pygments_lexer": "ipython3",
   "version": "3.10.0"
  },
  "toc": {
   "base_numbering": 1,
   "nav_menu": {},
   "number_sections": true,
   "sideBar": true,
   "skip_h1_title": false,
   "title_cell": "Table of Contents",
   "title_sidebar": "Contents",
   "toc_cell": false,
   "toc_position": {},
   "toc_section_display": true,
   "toc_window_display": false
  }
 },
 "nbformat": 4,
 "nbformat_minor": 5
}
