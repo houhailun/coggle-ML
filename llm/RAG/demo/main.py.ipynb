{
 "cells": [
  {
   "cell_type": "markdown",
   "id": "87ca8e9b",
   "metadata": {},
   "source": [
    "# RAG主函数"
   ]
  },
  {
   "cell_type": "code",
   "execution_count": 9,
   "id": "6dac833d",
   "metadata": {},
   "outputs": [
    {
     "name": "stdout",
     "output_type": "stream",
     "text": [
      " 驱动器 D 中的卷是 软件\n",
      " 卷的序列号是 C14D-581B\n",
      "\n",
      " D:\\code\\personal\\notebook\\llm\\RAG 的目录\n",
      "\n",
      "2024-06-29  14:12    <DIR>          .\n",
      "2024-06-29  14:12    <DIR>          ..\n",
      "2024-06-29  14:06    <DIR>          .ipynb_checkpoints\n",
      "2024-06-29  14:12             6,730 CustomLLM.ipynb\n",
      "2024-06-29  14:12             3,061 main.py.ipynb\n",
      "2024-06-29  13:56               163 readme.txt\n",
      "               3 个文件          9,954 字节\n",
      "               3 个目录 87,956,115,456 可用字节\n"
     ]
    },
    {
     "ename": "ModuleNotFoundError",
     "evalue": "No module named 'CustomLLM'",
     "output_type": "error",
     "traceback": [
      "\u001b[1;31m---------------------------------------------------------------------------\u001b[0m",
      "\u001b[1;31mModuleNotFoundError\u001b[0m                       Traceback (most recent call last)",
      "Cell \u001b[1;32mIn[9], line 9\u001b[0m\n\u001b[0;32m      6\u001b[0m \u001b[38;5;28;01mfrom\u001b[39;00m \u001b[38;5;21;01mlangchain\u001b[39;00m\u001b[38;5;21;01m.\u001b[39;00m\u001b[38;5;21;01mchains\u001b[39;00m \u001b[38;5;28;01mimport\u001b[39;00m LLMChain          \u001b[38;5;66;03m# 链\u001b[39;00m\n\u001b[0;32m      8\u001b[0m get_ipython()\u001b[38;5;241m.\u001b[39msystem(\u001b[38;5;124m'\u001b[39m\u001b[38;5;124mdir\u001b[39m\u001b[38;5;124m'\u001b[39m)\n\u001b[1;32m----> 9\u001b[0m \u001b[38;5;28;01mfrom\u001b[39;00m \u001b[38;5;21;01mCustomLLM\u001b[39;00m \u001b[38;5;28;01mimport\u001b[39;00m MyCustomLLM\n",
      "\u001b[1;31mModuleNotFoundError\u001b[0m: No module named 'CustomLLM'"
     ]
    }
   ],
   "source": [
    "# 加载库\n",
    "from langchain_community.embeddings.sentence_transformer import SentenceTransformerEmbeddings\n",
    "\n",
    "from langchain.prompts import PromptTemplate   # 提示词模板\n",
    "from langchain.vectorstores import Chroma      # 向量数据库\n",
    "from langchain.chains import LLMChain          # 链\n",
    "\n",
    "!dir\n",
    "from CustomLLM import MyCustomLLM"
   ]
  },
  {
   "cell_type": "code",
   "execution_count": null,
   "id": "7939ac8c",
   "metadata": {},
   "outputs": [],
   "source": []
  }
 ],
 "metadata": {
  "kernelspec": {
   "display_name": "Python 3 (ipykernel)",
   "language": "python",
   "name": "python3"
  },
  "language_info": {
   "codemirror_mode": {
    "name": "ipython",
    "version": 3
   },
   "file_extension": ".py",
   "mimetype": "text/x-python",
   "name": "python",
   "nbconvert_exporter": "python",
   "pygments_lexer": "ipython3",
   "version": "3.8.17"
  }
 },
 "nbformat": 4,
 "nbformat_minor": 5
}
