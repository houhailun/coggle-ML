{
 "cells": [
  {
   "cell_type": "markdown",
   "id": "6e5756b9",
   "metadata": {},
   "source": [
    "# Chat-甄嬛模型训练脚本"
   ]
  },
  {
   "cell_type": "code",
   "execution_count": 18,
   "id": "beed494a",
   "metadata": {},
   "outputs": [],
   "source": [
    "import pandas as pd\n",
    "import torch\n",
    "\n",
    "from datasets import Dataset\n",
    "from transformers import (AutoTokenizer, \n",
    "                          AutoModelForCausalLM, \n",
    "                          DataCollatorForSeq2Seq, \n",
    "                          TrainingArguments, \n",
    "                          Trainer)\n",
    "\n",
    "from peft import (LoraConfig, TaskType, get_peft_model)"
   ]
  },
  {
   "cell_type": "code",
   "execution_count": 19,
   "id": "26ebaf9d",
   "metadata": {},
   "outputs": [],
   "source": [
    "# !pip list | grep transformer       # 4.24.0\n",
    "# !pip install transformers==4.43.1  # 解决annot import name 'GenerationConfig' from 'transformers'\n",
    "# !pip install peft==0.11.1"
   ]
  },
  {
   "cell_type": "markdown",
   "id": "f6b3081c",
   "metadata": {},
   "source": [
    "## 模型训练数据处理\n",
    "- 1.tokenizer处理\n",
    "- 2.input_ids, attention_mask,label处理"
   ]
  },
  {
   "cell_type": "code",
   "execution_count": 20,
   "id": "90d444d2",
   "metadata": {},
   "outputs": [],
   "source": [
    "def process_func(example):\n",
    "    MAX_LENGTH = 384  # Llama分词器会将一个中文字切分为多个token，因此需要放开一些最大长度，保证数据的完整性\n",
    "    input_ids, attention_mask, labels = [], [], []\n",
    "\n",
    "    # 拼接instruction和response\n",
    "    # NOTE: begin_of_text、start_header_id、end_header_id、eot_id是模型自定义的分词符，用于区分不同部分\n",
    "    instruction = tokenizer(f\"<|begin_of_text|><|start_header_id|>system<|end_header_id|>\\n\\n现在你要扮演皇帝身边的女人--甄嬛<|eot_id|><|start_header_id|>user<|end_header_id|>\\n\\n{example['instruction'] + example['input']}<|eot_id|><|start_header_id|>assistant<|end_header_id|>\\n\\n\", add_special_tokens=False)  # add_special_tokens 不在开头加 special_tokens\n",
    "    response = tokenizer(f\"{example['output']}<|eot_id|>\", add_special_tokens=False)\n",
    "\n",
    "    # 注意input_ids和labels的是不用的\n",
    "    # input_ids是输入+输出，labels是只保留输出，-100表示不参与模型计算\n",
    "    input_ids = instruction['input_ids'] + response['input_ids'] + [tokenizer.pad_token_id]\n",
    "    attention_mask = instruction['attention_mask'] + response['attention_mask'] + [1]  # 因为eos token咱们也是要关注的所以 补充为1\n",
    "    labels = [-100] * len(instruction[\"input_ids\"]) + response[\"input_ids\"] + [tokenizer.pad_token_id]  \n",
    "\n",
    "    # 长度截断\n",
    "    if len(input_ids) > MAX_LENGTH:\n",
    "        input_ids = input_ids[:MAX_LENGTH]\n",
    "        attention_mask = attention_mask[:MAX_LENGTH]\n",
    "        labels = labels[:MAX_LENGTH]\n",
    "    \n",
    "    return {'input_ids': input_ids, 'attention_mask': attention_mask, 'labels': labels}"
   ]
  },
  {
   "cell_type": "code",
   "execution_count": 22,
   "id": "dfa3444a",
   "metadata": {},
   "outputs": [
    {
     "name": "stdout",
     "output_type": "stream",
     "text": [
      "Unexpected exception formatting exception. Falling back to standard exception\n"
     ]
    },
    {
     "name": "stderr",
     "output_type": "stream",
     "text": [
      "Traceback (most recent call last):\n",
      "  File \"/Users/houhailun/anaconda3/envs/torch/lib/python3.10/site-packages/transformers/configuration_utils.py\", line 614, in _get_config_dict\n",
      "    cls, pretrained_model_name_or_path: Union[str, os.PathLike], **kwargs\n",
      "  File \"/Users/houhailun/anaconda3/envs/torch/lib/python3.10/site-packages/transformers/utils/hub.py\", line 409, in cached_file\n",
      "    user_agent=user_agent,\n",
      "  File \"/Users/houhailun/anaconda3/envs/torch/lib/python3.10/site-packages/huggingface_hub/utils/_validators.py\", line 110, in _inner_fn\n",
      "  File \"/Users/houhailun/anaconda3/envs/torch/lib/python3.10/site-packages/huggingface_hub/utils/_validators.py\", line 164, in validate_repo_id\n",
      "    )\n",
      "huggingface_hub.utils._validators.HFValidationError: Repo id must use alphanumeric chars or '-', '_', '.', '--' and '..' are forbidden, '-' and '.' cannot start or end the name, max length is 96: ''.\n",
      "\n",
      "During handling of the above exception, another exception occurred:\n",
      "\n",
      "Traceback (most recent call last):\n",
      "  File \"/Users/houhailun/anaconda3/envs/torch/lib/python3.10/site-packages/IPython/core/interactiveshell.py\", line 3553, in run_code\n",
      "    exec(code_obj, self.user_global_ns, self.user_ns)\n",
      "  File \"/var/folders/0v/48h4s6fd3vddk8_fnhfzjg440000gn/T/ipykernel_61176/1827944272.py\", line 4, in <module>\n",
      "    model = AutoModelForCausalLM.from_pretrained(model_path,\n",
      "  File \"/Users/houhailun/anaconda3/envs/torch/lib/python3.10/site-packages/transformers/models/auto/auto_factory.py\", line 434, in from_pretrained\n",
      "    _ = kwargs.pop(\"code_revision\", None)\n",
      "  File \"/Users/houhailun/anaconda3/envs/torch/lib/python3.10/site-packages/transformers/models/auto/configuration_auto.py\", line 776, in from_pretrained\n",
      "  File \"/Users/houhailun/anaconda3/envs/torch/lib/python3.10/site-packages/transformers/configuration_utils.py\", line 559, in get_config_dict\n",
      "    return_unused_kwargs (`bool`, *optional*, defaults to `False`):\n",
      "  File \"/Users/houhailun/anaconda3/envs/torch/lib/python3.10/site-packages/transformers/configuration_utils.py\", line 635, in _get_config_dict\n",
      "OSError: Can't load the configuration of ''. If you were trying to load it from 'https://huggingface.co/models', make sure you don't have a local directory with the same name. Otherwise, make sure '' is the correct path to a directory containing a config.json file\n",
      "\n",
      "During handling of the above exception, another exception occurred:\n",
      "\n",
      "Traceback (most recent call last):\n",
      "  File \"/Users/houhailun/anaconda3/envs/torch/lib/python3.10/site-packages/IPython/core/interactiveshell.py\", line 2144, in showtraceback\n",
      "    stb = self.InteractiveTB.structured_traceback(\n",
      "  File \"/Users/houhailun/anaconda3/envs/torch/lib/python3.10/site-packages/IPython/core/ultratb.py\", line 1435, in structured_traceback\n",
      "    return FormattedTB.structured_traceback(\n",
      "  File \"/Users/houhailun/anaconda3/envs/torch/lib/python3.10/site-packages/IPython/core/ultratb.py\", line 1326, in structured_traceback\n",
      "    return VerboseTB.structured_traceback(\n",
      "  File \"/Users/houhailun/anaconda3/envs/torch/lib/python3.10/site-packages/IPython/core/ultratb.py\", line 1173, in structured_traceback\n",
      "    formatted_exception = self.format_exception_as_a_whole(etype, evalue, etb, number_of_lines_of_context,\n",
      "  File \"/Users/houhailun/anaconda3/envs/torch/lib/python3.10/site-packages/IPython/core/ultratb.py\", line 1088, in format_exception_as_a_whole\n",
      "    frames.append(self.format_record(record))\n",
      "  File \"/Users/houhailun/anaconda3/envs/torch/lib/python3.10/site-packages/IPython/core/ultratb.py\", line 970, in format_record\n",
      "    frame_info.lines, Colors, self.has_colors, lvals\n",
      "  File \"/Users/houhailun/anaconda3/envs/torch/lib/python3.10/site-packages/IPython/core/ultratb.py\", line 792, in lines\n",
      "    return self._sd.lines\n",
      "  File \"/Users/houhailun/anaconda3/envs/torch/lib/python3.10/site-packages/stack_data/utils.py\", line 145, in cached_property_wrapper\n",
      "    value = obj.__dict__[self.func.__name__] = self.func(obj)\n",
      "  File \"/Users/houhailun/anaconda3/envs/torch/lib/python3.10/site-packages/stack_data/core.py\", line 734, in lines\n",
      "    pieces = self.included_pieces\n",
      "  File \"/Users/houhailun/anaconda3/envs/torch/lib/python3.10/site-packages/stack_data/utils.py\", line 145, in cached_property_wrapper\n",
      "    value = obj.__dict__[self.func.__name__] = self.func(obj)\n",
      "  File \"/Users/houhailun/anaconda3/envs/torch/lib/python3.10/site-packages/stack_data/core.py\", line 681, in included_pieces\n",
      "    pos = scope_pieces.index(self.executing_piece)\n",
      "  File \"/Users/houhailun/anaconda3/envs/torch/lib/python3.10/site-packages/stack_data/utils.py\", line 145, in cached_property_wrapper\n",
      "    value = obj.__dict__[self.func.__name__] = self.func(obj)\n",
      "  File \"/Users/houhailun/anaconda3/envs/torch/lib/python3.10/site-packages/stack_data/core.py\", line 660, in executing_piece\n",
      "    return only(\n",
      "  File \"/Users/houhailun/anaconda3/envs/torch/lib/python3.10/site-packages/executing/executing.py\", line 116, in only\n",
      "    raise NotOneValueFound('Expected one value, found 0')\n",
      "executing.executing.NotOneValueFound: Expected one value, found 0\n"
     ]
    }
   ],
   "source": [
    "if __name__ == '__main__':\n",
    "    # 加载原始模型\n",
    "    model_path = \"\"\n",
    "    model = AutoModelForCausalLM.from_pretrained(model_path, \n",
    "                                                 device_map='auto', \n",
    "                                                 torch_dtype=torch.float16)\n",
    "    model.enable_input_require_grads()  # 开启梯度检查点时，要执行该方法\n",
    "\n",
    "    # 加载tokenizer\n",
    "    tokenizer = AutoTokenizer.from_pretrained(model_path, use_fast=False, trust_remote_code=True)\n",
    "    tokenizer.pad_token = tokenizer.eos_token\n",
    "\n",
    "    # 加载数据集\n",
    "    df = pd.read_json('huanuhan.json')\n",
    "    ds = Dataset.from_pandas(df)\n",
    "    tokenizer_id = df.map(process_func, remove_columns=ds.column_names)\n",
    "\n",
    "    # PEFT配置\n",
    "    config = LoraConfig(\n",
    "        task_type=TaskType.CAUSAL_LM,\n",
    "        target_modules=[\"q_proj\", \"v_proj\", 'k_proj'],\n",
    "        inference_mode=False,   # 训练模式\n",
    "        r=8,\n",
    "        lora_alpha=32,\n",
    "        lora_dropout=0.1\n",
    "    )\n",
    "    model = get_peft_model(model, config)\n",
    "    model.print_trainable_parameters()  # 打印总训练参数\n",
    "\n",
    "    # 模型训练参数\n",
    "    args = TrainingArguments(\n",
    "        output_dir='./output/llama3_1_instruct_lora',  # 指定模型和日志文件的保存路径\n",
    "        per_device_train_batch_size=4,  # 每个GPU一次训练的样本数\n",
    "        gradient_accumulation_steps=4,  # 梯度累积步数\n",
    "        logging_steps=10,\n",
    "        num_train_epochs=3,\n",
    "        save_steps=100,              # 指定每多少步保存一次模型检查点\n",
    "        learning_rate=1e-4,\n",
    "        save_on_each_node=True,      # 指定是否在每个节点上保存模型检查点（适用于分布式训练）\n",
    "        gradient_checkpointing=True,  # 启用梯度检查点，一种内存优化技术\n",
    "\n",
    "        lr_scheduler_type=\"cosine_with_warmup\",  # 使用余弦调度器带热身\n",
    "        warmup_ratio=0.1,  # 热身占比\n",
    "    )\n",
    "    # 调参说明://www.bilibili.com/opus/955908361182773287\n",
    "\n",
    "    # 定义Trainer\n",
    "    trainer = Trainer(\n",
    "        model=model,\n",
    "        args=args,\n",
    "        train_dataset=ds,\n",
    "        tokenizer=DataCollatorForSeq2Seq(tokenizer, padding=True)\n",
    "    )\n",
    "    # 开启训练\n",
    "    trainer.train()"
   ]
  },
  {
   "cell_type": "code",
   "execution_count": null,
   "id": "d8fa948c",
   "metadata": {},
   "outputs": [],
   "source": []
  }
 ],
 "metadata": {
  "kernelspec": {
   "display_name": "torch",
   "language": "python",
   "name": "python3"
  },
  "language_info": {
   "codemirror_mode": {
    "name": "ipython",
    "version": 3
   },
   "file_extension": ".py",
   "mimetype": "text/x-python",
   "name": "python",
   "nbconvert_exporter": "python",
   "pygments_lexer": "ipython3",
   "version": "3.10.0"
  }
 },
 "nbformat": 4,
 "nbformat_minor": 5
}
