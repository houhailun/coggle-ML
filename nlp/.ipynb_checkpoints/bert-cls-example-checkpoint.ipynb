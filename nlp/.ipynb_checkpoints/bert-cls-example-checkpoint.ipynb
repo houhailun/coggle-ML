{
 "cells": [
  {
   "cell_type": "markdown",
   "id": "ece35c44",
   "metadata": {},
   "source": [
    "# Bert 文本分类示例"
   ]
  },
  {
   "cell_type": "code",
   "execution_count": 2,
   "id": "221655d6",
   "metadata": {},
   "outputs": [
    {
     "name": "stderr",
     "output_type": "stream",
     "text": [
      "'https:' 不是内部或外部命令，也不是可运行的程序\n",
      "或批处理文件。\n"
     ]
    }
   ],
   "source": [
    "!https://github.com/skdjfla/toutiao-text-classfication-dataset/raw/master/toutiao_cat_data.txt.zip"
   ]
  },
  {
   "cell_type": "code",
   "execution_count": 24,
   "id": "036159fc",
   "metadata": {},
   "outputs": [
    {
     "name": "stdout",
     "output_type": "stream",
     "text": [
      " 驱动器 D 中的卷是 软件\n",
      " 卷的序列号是 C14D-581B\n",
      "\n",
      " D:\\code\\personal\\notebooks\\nlp\\dataset 的目录\n",
      "\n",
      "2024/01/18  17:26    <DIR>          .\n",
      "2024/01/18  17:26    <DIR>          ..\n",
      "2018/05/14  13:59        57,013,974 toutiao_cat_data.txt\n",
      "               1 个文件     57,013,974 字节\n",
      "               2 个目录 117,624,221,696 可用字节\n"
     ]
    }
   ],
   "source": [
    "ls dataset"
   ]
  },
  {
   "cell_type": "code",
   "execution_count": 25,
   "id": "29298a3f",
   "metadata": {},
   "outputs": [],
   "source": [
    "# pandas 数据集读取，dataframe形式的\n",
    "import pandas as pd\n",
    "# 文件读取\n",
    "import codecs\n",
    "\n",
    "# 读取文本\n",
    "\n",
    "# 标签\n",
    "# 标签减去100转换为101 -> 1，2,3，...\n",
    "news_label = [int(x.split('_!_')[1])-100 \n",
    "                  for x in codecs.open('./dataset/toutiao_cat_data.txt', encoding='utf-8')]\n",
    "\n",
    "# 文本\n",
    "news_text = [x.strip().split('_!_')[-1] if x.strip()[-3:] != '_!_' else x.strip().split('_!_')[-2]\n",
    "                 for x in codecs.open('./dataset/toutiao_cat_data.txt', encoding='utf-8')]"
   ]
  },
  {
   "cell_type": "code",
   "execution_count": 80,
   "id": "6a4f54cf",
   "metadata": {},
   "outputs": [
    {
     "data": {
      "text/plain": [
       "['保利集团,马未都,中国科学技术馆,博物馆,新中国',\n",
       " '发酵床的垫料种类有哪些？哪种更好？',\n",
       " '上联：黄山黄河黄皮肤黄土高原。怎么对下联？',\n",
       " '林徽因什么理由拒绝了徐志摩而选择梁思成为终身伴侣？',\n",
       " '黄杨木是什么树？',\n",
       " '上联：草根登上星光道，怎么对下联？',\n",
       " '什么是超写实绘画？',\n",
       " '松涛听雨莺婉转，下联？',\n",
       " '上联：老子骑牛读书，下联怎么对？',\n",
       " '上联：山水醉人何须酒。如何对下联？',\n",
       " '林风眠,黄海归来步步云,秋山图,计白当黑,山水画,江山万里图,张大千,巫峡清秋图,活眼,山雨欲来图',\n",
       " '牡丹,收藏价值',\n",
       " '有哪些让人感动的语句呢？',\n",
       " '上联，绿竹引清风，如何对下联？',\n",
       " '叶浅予,田世光,李苦禅,花鸟画,中央美术学院',\n",
       " '夕阳无语燕归愁，如何接下句？',\n",
       " '上联：山水醉人何须酒。如何对下联？',\n",
       " '上联：上班为下班，如何对下联？',\n",
       " '下联:夕陽西下已黄昏。上联是什麽？',\n",
       " '荷花,西湖,金粟词话,采莲女,念奴娇·赤壁怀古,林逋,荷叶',\n",
       " '佟丽娅,网络谣言,快乐大本营,李浩菲,谢娜,观众们',\n",
       " '汪涵,火星情报局,杨迪,主办方,谢娜,刘维',\n",
       " '飞纱,新娘,脱口秀,中国网,婚礼',\n",
       " '陆贞传奇,大红大紫,楚乔传,微博热搜,赵丽颖,花千骨,迪丽热巴,Angelababy',\n",
       " '戴上眼镜,刘德华,张翰,远大前程,杜志国,刘亦菲',\n",
       " '电影院,前任3,刘若英,张一白,田壮壮',\n",
       " '金刚狼3,休·杰克曼,神奇女侠,绯红女巫,超人,金刚狼',\n",
       " '张绍刚,新组合,腾讯视频,无限歌谣季,毛不易,父子',\n",
       " '中岛美嘉,滨崎步,张靓颖,演唱会,林子祥',\n",
       " '成龙改口决定不裸捐了，20亿财产给儿子一半，你怎么看？']"
      ]
     },
     "execution_count": 80,
     "metadata": {},
     "output_type": "execute_result"
    }
   ],
   "source": [
    "news_text[:30]"
   ]
  },
  {
   "cell_type": "code",
   "execution_count": 82,
   "id": "0e118114",
   "metadata": {},
   "outputs": [
    {
     "data": {
      "text/plain": [
       "[1,\n",
       " 1,\n",
       " 1,\n",
       " 1,\n",
       " 1,\n",
       " 1,\n",
       " 1,\n",
       " 1,\n",
       " 1,\n",
       " 1,\n",
       " 1,\n",
       " 1,\n",
       " 1,\n",
       " 1,\n",
       " 1,\n",
       " 1,\n",
       " 1,\n",
       " 1,\n",
       " 1,\n",
       " 1,\n",
       " 2,\n",
       " 2,\n",
       " 2,\n",
       " 2,\n",
       " 2,\n",
       " 2,\n",
       " 2,\n",
       " 2,\n",
       " 2,\n",
       " 2]"
      ]
     },
     "execution_count": 82,
     "metadata": {},
     "output_type": "execute_result"
    }
   ],
   "source": [
    "news_label[:30]"
   ]
  },
  {
   "cell_type": "code",
   "execution_count": 28,
   "id": "cb349bab",
   "metadata": {},
   "outputs": [],
   "source": [
    "import torch\n",
    "from sklearn.model_selection import train_test_split\n",
    "from torch.utils.data import Dataset, DataLoader, TensorDataset\n",
    "import numpy as np\n",
    "import pandas as pd\n",
    "import random\n",
    "import re"
   ]
  },
  {
   "cell_type": "code",
   "execution_count": 83,
   "id": "440c017a",
   "metadata": {},
   "outputs": [],
   "source": [
    "# 划分为训练集和验证集\n",
    "# stratify 按照标签进行采样，训练集和验证集同分布\n",
    "x_train, x_test, train_label, test_label = train_test_split(news_text[:10000],\n",
    "                                                           news_label[:10000],\n",
    "                                                           test_size=0.2,\n",
    "                                                           stratify=news_label[:10000])"
   ]
  },
  {
   "cell_type": "code",
   "execution_count": 30,
   "id": "f07e06cc",
   "metadata": {},
   "outputs": [],
   "source": [
    "# input_ids：字的编码\n",
    "# token_type_ids：标识是第一个句子还是第二个句子\n",
    "# attention_mask：标识是不是填充"
   ]
  },
  {
   "cell_type": "markdown",
   "id": "887edb6b",
   "metadata": {},
   "source": [
    "下载模型\n",
    "\n",
    "from modelscope.hub.snapshot_download import snapshot_download\n",
    "\n",
    "model_dir = snapshot_download('tiansz/bert-base-chinese', cache_dir='D:\\code\\personal\\models\\bert-base-chinese')\n"
   ]
  },
  {
   "cell_type": "code",
   "execution_count": 84,
   "id": "21bcdec0",
   "metadata": {},
   "outputs": [],
   "source": [
    "# transformers bert相关的模型使用和加载\n",
    "from transformers import BertTokenizer\n",
    "\n",
    "# 分词器，词典\n",
    "model_path = r\"D:\\code\\personal\\models\\bert-base-chinese\"\n",
    "tokenizer = BertTokenizer.from_pretrained(model_path)\n",
    "train_encoding = tokenizer(x_train, truncation=True, padding=True, max_length=64)\n",
    "test_encoding = tokenizer(x_test, truncation=True, padding=True, max_length=64)\n",
    "                                    \n"
   ]
  },
  {
   "cell_type": "code",
   "execution_count": 85,
   "id": "9ed44f62",
   "metadata": {},
   "outputs": [
    {
     "name": "stdout",
     "output_type": "stream",
     "text": [
      "CPU times: total: 0 ns\n",
      "Wall time: 0 ns\n"
     ]
    },
    {
     "name": "stderr",
     "output_type": "stream",
     "text": [
      "D:\\Python\\envs\\torch\\lib\\site-packages\\transformers\\tokenization_utils_base.py:2395: UserWarning: `max_length` is ignored when `padding`=`True` and there is no truncation strategy. To pad to max length, use `padding='max_length'`.\n",
      "  warnings.warn(\n"
     ]
    },
    {
     "data": {
      "text/plain": [
       "{'input_ids': [101, 2769, 812, 3221, 1962, 2110, 4495, 102, 1962, 2110, 4495, 3221, 2769, 812, 102], 'token_type_ids': [0, 0, 0, 0, 0, 0, 0, 0, 1, 1, 1, 1, 1, 1, 1], 'attention_mask': [1, 1, 1, 1, 1, 1, 1, 1, 1, 1, 1, 1, 1, 1, 1]}"
      ]
     },
     "execution_count": 85,
     "metadata": {},
     "output_type": "execute_result"
    }
   ],
   "source": [
    "import time\n",
    "\n",
    "%time\n",
    "tokenizer('我们是好学生', '好学生是我们',  padding=True, max_length=120)"
   ]
  },
  {
   "cell_type": "code",
   "execution_count": 86,
   "id": "20271873",
   "metadata": {},
   "outputs": [],
   "source": [
    "# 数据集读取\n",
    "\n",
    "class NewsDataset(Dataset):\n",
    "    def __init__(self, encodings, labels):\n",
    "        self.encodings = encodings\n",
    "        self.labels = labels\n",
    "    \n",
    "    # 读取单个样本\n",
    "    def __getitem__(self, idx):\n",
    "        item = {key: torch.tensor(val[idx]) for key, val in self.encodings.items()}\n",
    "        item['labels'] = torch.tensor(int(self.labels[idx]))\n",
    "        return item\n",
    "    \n",
    "    def __len__(self):\n",
    "        return len(self.labels)\n",
    "\n",
    "train_dataset = NewsDataset(train_encoding, train_label)\n",
    "test_dataset = NewsDataset(test_encoding, test_label)"
   ]
  },
  {
   "cell_type": "code",
   "execution_count": 87,
   "id": "cd7d3270",
   "metadata": {},
   "outputs": [
    {
     "data": {
      "text/plain": [
       "{'input_ids': tensor([ 101,  677, 5468, 8038, 1288, 2414, 3209, 3299, 1872, 2163, 2174, 8024,\n",
       "          678, 5468, 2582,  720, 2190, 8043,  102,    0,    0,    0,    0,    0,\n",
       "            0,    0,    0,    0,    0,    0,    0,    0,    0,    0,    0,    0,\n",
       "            0,    0,    0,    0,    0,    0,    0,    0,    0,    0,    0,    0,\n",
       "            0,    0,    0,    0,    0,    0,    0,    0,    0,    0,    0,    0,\n",
       "            0,    0,    0,    0]),\n",
       " 'token_type_ids': tensor([0, 0, 0, 0, 0, 0, 0, 0, 0, 0, 0, 0, 0, 0, 0, 0, 0, 0, 0, 0, 0, 0, 0, 0,\n",
       "         0, 0, 0, 0, 0, 0, 0, 0, 0, 0, 0, 0, 0, 0, 0, 0, 0, 0, 0, 0, 0, 0, 0, 0,\n",
       "         0, 0, 0, 0, 0, 0, 0, 0, 0, 0, 0, 0, 0, 0, 0, 0]),\n",
       " 'attention_mask': tensor([1, 1, 1, 1, 1, 1, 1, 1, 1, 1, 1, 1, 1, 1, 1, 1, 1, 1, 1, 0, 0, 0, 0, 0,\n",
       "         0, 0, 0, 0, 0, 0, 0, 0, 0, 0, 0, 0, 0, 0, 0, 0, 0, 0, 0, 0, 0, 0, 0, 0,\n",
       "         0, 0, 0, 0, 0, 0, 0, 0, 0, 0, 0, 0, 0, 0, 0, 0]),\n",
       " 'labels': tensor(1)}"
      ]
     },
     "execution_count": 87,
     "metadata": {},
     "output_type": "execute_result"
    }
   ],
   "source": [
    "train_dataset[1]\n"
   ]
  },
  {
   "cell_type": "code",
   "execution_count": 88,
   "id": "4568104e",
   "metadata": {},
   "outputs": [],
   "source": [
    "#精度计算\n",
    "def flat_accuracy(preds, labels):\n",
    "    # flatten: 拉伸到一维向量\n",
    "    pred_flat = np.argmax(preds, axis=1).flatten()\n",
    "    labels_flat = labels.flatten()\n",
    "    return np.sum(pred_flat == labels_flat) / len(labels_flat)\n",
    " "
   ]
  },
  {
   "cell_type": "code",
   "execution_count": 89,
   "id": "b91df21e",
   "metadata": {},
   "outputs": [
    {
     "name": "stderr",
     "output_type": "stream",
     "text": [
      "Some weights of the model checkpoint at D:\\code\\personal\\models\\bert-base-chinese were not used when initializing BertForSequenceClassification: ['cls.predictions.transform.LayerNorm.bias', 'cls.predictions.transform.dense.weight', 'cls.predictions.bias', 'cls.predictions.transform.dense.bias', 'cls.seq_relationship.weight', 'cls.predictions.transform.LayerNorm.weight', 'cls.seq_relationship.bias']\n",
      "- This IS expected if you are initializing BertForSequenceClassification from the checkpoint of a model trained on another task or with another architecture (e.g. initializing a BertForSequenceClassification model from a BertForPreTraining model).\n",
      "- This IS NOT expected if you are initializing BertForSequenceClassification from the checkpoint of a model that you expect to be exactly identical (initializing a BertForSequenceClassification model from a BertForSequenceClassification model).\n",
      "Some weights of BertForSequenceClassification were not initialized from the model checkpoint at D:\\code\\personal\\models\\bert-base-chinese and are newly initialized: ['classifier.weight', 'classifier.bias']\n",
      "You should probably TRAIN this model on a down-stream task to be able to use it for predictions and inference.\n"
     ]
    },
    {
     "name": "stdout",
     "output_type": "stream",
     "text": [
      "500\n"
     ]
    },
    {
     "name": "stderr",
     "output_type": "stream",
     "text": [
      "D:\\Python\\envs\\torch\\lib\\site-packages\\transformers\\optimization.py:411: FutureWarning: This implementation of AdamW is deprecated and will be removed in a future version. Use the PyTorch implementation torch.optim.AdamW instead, or set `no_deprecation_warning=True` to disable this warning\n",
      "  warnings.warn(\n"
     ]
    }
   ],
   "source": [
    "from transformers import BertForSequenceClassification, AdamW, get_linear_schedule_with_warmup\n",
    "\n",
    "# 实例化模型\n",
    "model = BertForSequenceClassification.from_pretrained(model_path, num_labels=17)\n",
    "device = torch.device(\"cuda\" if torch.cuda.is_available() else \"cpu\")\n",
    "model.to(device)\n",
    "\n",
    "# 批量读取\n",
    "train_loader = DataLoader(train_dataset, batch_size=16, shuffle=True)\n",
    "test_dataloader = DataLoader(test_dataset, batch_size=16, shuffle=True)\n",
    "\n",
    "# 优化方法\n",
    "optim = AdamW(model.parameters(), lr=2e-5)\n",
    "total_steps = len(train_loader) * 1\n",
    "print(total_steps)  # train_size / 16\n",
    "\n",
    "\n",
    "# get_linear_schedule_with_warmup: 学习率预热 - 线性\n",
    "# num_warmup_steps: 初始预热步数, 指学习率从0开始指行 num_warmup_steps 后导致执行学习率，开始衰减\n",
    "#                   赋值为0，表示没有预热，直接从指定lr开始衰减\n",
    "# num_training_steps：整个训练过程总步数\n",
    "scheduler = get_linear_schedule_with_warmup(optim,\n",
    "                                           num_warmup_steps=0,\n",
    "                                           num_training_steps=total_steps)\n",
    "\n"
   ]
  },
  {
   "cell_type": "code",
   "execution_count": 90,
   "id": "733ead2f",
   "metadata": {},
   "outputs": [],
   "source": [
    "# 训练函数\n",
    "def train():\n",
    "    model.train()\n",
    "    total_train_loss = 0\n",
    "    iter_num = 0\n",
    "    total_iter = len(train_loader)\n",
    "    \n",
    "    for batch in train_loader:\n",
    "        # 梯度清零\n",
    "        optim.zero_grad()\n",
    "        \n",
    "        # 正向传播\n",
    "        inputs_ids = batch['input_ids'].to(device)\n",
    "        attention_mask = batch['attention_mask'].to(device)\n",
    "        labels = batch['labels'].to(device)\n",
    "        \n",
    "        outputs = model(inputs_ids, attention_mask=attention_mask, labels=labels)\n",
    "        loss = outputs[0]  # loss, logist = output\n",
    "        total_train_loss += loss.item()\n",
    "        \n",
    "        # 反向传播\n",
    "        loss.backward()\n",
    "        torch.nn.utils.clip_grad_norm_(model.parameters(), 1.0)\n",
    "        \n",
    "        #参数更新\n",
    "        optim.step()\n",
    "        scheduler.step()\n",
    "        \n",
    "        iter_num += 1\n",
    "        if iter_num % 100 == 0:\n",
    "            print(\"epoth: %d, iter_num: %d, loss: %.4f, %.2f%%\" % (epoch, iter_num, loss.item(), iter_num/total_iter*100))\n",
    "        \n",
    "    print(\"Epoch: %d, Average training loss: %.4f\"%(epoch, total_train_loss/len(train_loader)))"
   ]
  },
  {
   "cell_type": "code",
   "execution_count": 91,
   "id": "d6a94bd2",
   "metadata": {},
   "outputs": [],
   "source": [
    "# 模型评估\n",
    "def validation():\n",
    "    model.eval()\n",
    "    total_eval_accuracy = 0\n",
    "    total_eval_loss = 0\n",
    "    for batch in test_dataloader:\n",
    "        with torch.no_grad():  # 内部代码不计算梯度\n",
    "            # 正常传播\n",
    "            input_ids = batch['input_ids'].to(device)\n",
    "            attention_mask = batch['attention_mask'].to(device)\n",
    "            labels = batch['labels'].to(device)\n",
    "            outputs = model(input_ids, attention_mask=attention_mask, labels=labels)\n",
    "        \n",
    "        loss = outputs[0]\n",
    "        logits = outputs[1]\n",
    "        \n",
    "        total_eval_loss += loss.item()\n",
    "        logits = logits.detach().cpu().numpy()\n",
    "        labels_ids = labels.to('cpu').numpy()\n",
    "        total_eval_accuracy += flat_accuracy(logits, labels_ids)\n",
    "        \n",
    "    avg_val_accuracy = total_eval_accuracy / len(test_dataloader)\n",
    "    print(\"[eval] Accuracy: %.4f\" % (avg_val_accuracy))\n",
    "    print(\"[eval] Average testing loss: %.4f\"%(total_eval_loss/len(test_dataloader)))"
   ]
  },
  {
   "cell_type": "code",
   "execution_count": 92,
   "id": "45465418",
   "metadata": {},
   "outputs": [
    {
     "name": "stdout",
     "output_type": "stream",
     "text": [
      "------------Epoch: 0 ----------------\n",
      "epoth: 0, iter_num: 100, loss: 1.1342, 20.00%\n",
      "epoth: 0, iter_num: 200, loss: 0.7769, 40.00%\n",
      "epoth: 0, iter_num: 300, loss: 0.4961, 60.00%\n",
      "epoth: 0, iter_num: 400, loss: 0.4711, 80.00%\n",
      "epoth: 0, iter_num: 500, loss: 0.2607, 100.00%\n",
      "Epoch: 0, Average training loss: 0.9696\n",
      "[eval] Accuracy: 0.8605\n",
      "[eval] Average testing loss: 0.5604\n",
      "------------Epoch: 1 ----------------\n",
      "epoth: 1, iter_num: 100, loss: 0.4461, 20.00%\n",
      "epoth: 1, iter_num: 200, loss: 0.6350, 40.00%\n",
      "epoth: 1, iter_num: 300, loss: 0.3358, 60.00%\n",
      "epoth: 1, iter_num: 400, loss: 0.3407, 80.00%\n",
      "epoth: 1, iter_num: 500, loss: 0.4615, 100.00%\n",
      "Epoch: 1, Average training loss: 0.4897\n",
      "[eval] Accuracy: 0.8605\n",
      "[eval] Average testing loss: 0.5604\n",
      "------------Epoch: 2 ----------------\n",
      "epoth: 2, iter_num: 100, loss: 0.6170, 20.00%\n",
      "epoth: 2, iter_num: 200, loss: 0.2926, 40.00%\n",
      "epoth: 2, iter_num: 300, loss: 0.7096, 60.00%\n",
      "epoth: 2, iter_num: 400, loss: 0.3845, 80.00%\n",
      "epoth: 2, iter_num: 500, loss: 0.6593, 100.00%\n",
      "Epoch: 2, Average training loss: 0.4890\n",
      "[eval] Accuracy: 0.8605\n",
      "[eval] Average testing loss: 0.5604\n",
      "------------Epoch: 3 ----------------\n",
      "epoth: 3, iter_num: 100, loss: 0.2418, 20.00%\n",
      "epoth: 3, iter_num: 200, loss: 0.2681, 40.00%\n"
     ]
    },
    {
     "ename": "KeyboardInterrupt",
     "evalue": "",
     "output_type": "error",
     "traceback": [
      "\u001b[1;31m---------------------------------------------------------------------------\u001b[0m",
      "\u001b[1;31mKeyboardInterrupt\u001b[0m                         Traceback (most recent call last)",
      "Cell \u001b[1;32mIn[92], line 3\u001b[0m\n\u001b[0;32m      1\u001b[0m \u001b[38;5;28;01mfor\u001b[39;00m epoch \u001b[38;5;129;01min\u001b[39;00m \u001b[38;5;28mrange\u001b[39m(\u001b[38;5;241m4\u001b[39m):\n\u001b[0;32m      2\u001b[0m     \u001b[38;5;28mprint\u001b[39m(\u001b[38;5;124m\"\u001b[39m\u001b[38;5;124m------------Epoch: \u001b[39m\u001b[38;5;132;01m%d\u001b[39;00m\u001b[38;5;124m ----------------\u001b[39m\u001b[38;5;124m\"\u001b[39m \u001b[38;5;241m%\u001b[39m epoch)\n\u001b[1;32m----> 3\u001b[0m     \u001b[43mtrain\u001b[49m\u001b[43m(\u001b[49m\u001b[43m)\u001b[49m\n\u001b[0;32m      4\u001b[0m     validation()\n",
      "Cell \u001b[1;32mIn[90], line 22\u001b[0m, in \u001b[0;36mtrain\u001b[1;34m()\u001b[0m\n\u001b[0;32m     19\u001b[0m total_train_loss \u001b[38;5;241m+\u001b[39m\u001b[38;5;241m=\u001b[39m loss\u001b[38;5;241m.\u001b[39mitem()\n\u001b[0;32m     21\u001b[0m \u001b[38;5;66;03m# 反向传播\u001b[39;00m\n\u001b[1;32m---> 22\u001b[0m \u001b[43mloss\u001b[49m\u001b[38;5;241;43m.\u001b[39;49m\u001b[43mbackward\u001b[49m\u001b[43m(\u001b[49m\u001b[43m)\u001b[49m\n\u001b[0;32m     23\u001b[0m torch\u001b[38;5;241m.\u001b[39mnn\u001b[38;5;241m.\u001b[39mutils\u001b[38;5;241m.\u001b[39mclip_grad_norm_(model\u001b[38;5;241m.\u001b[39mparameters(), \u001b[38;5;241m1.0\u001b[39m)\n\u001b[0;32m     25\u001b[0m \u001b[38;5;66;03m#参数更新\u001b[39;00m\n",
      "File \u001b[1;32mD:\\Python\\envs\\torch\\lib\\site-packages\\torch\\_tensor.py:487\u001b[0m, in \u001b[0;36mTensor.backward\u001b[1;34m(self, gradient, retain_graph, create_graph, inputs)\u001b[0m\n\u001b[0;32m    477\u001b[0m \u001b[38;5;28;01mif\u001b[39;00m has_torch_function_unary(\u001b[38;5;28mself\u001b[39m):\n\u001b[0;32m    478\u001b[0m     \u001b[38;5;28;01mreturn\u001b[39;00m handle_torch_function(\n\u001b[0;32m    479\u001b[0m         Tensor\u001b[38;5;241m.\u001b[39mbackward,\n\u001b[0;32m    480\u001b[0m         (\u001b[38;5;28mself\u001b[39m,),\n\u001b[1;32m   (...)\u001b[0m\n\u001b[0;32m    485\u001b[0m         inputs\u001b[38;5;241m=\u001b[39minputs,\n\u001b[0;32m    486\u001b[0m     )\n\u001b[1;32m--> 487\u001b[0m \u001b[43mtorch\u001b[49m\u001b[38;5;241;43m.\u001b[39;49m\u001b[43mautograd\u001b[49m\u001b[38;5;241;43m.\u001b[39;49m\u001b[43mbackward\u001b[49m\u001b[43m(\u001b[49m\n\u001b[0;32m    488\u001b[0m \u001b[43m    \u001b[49m\u001b[38;5;28;43mself\u001b[39;49m\u001b[43m,\u001b[49m\u001b[43m \u001b[49m\u001b[43mgradient\u001b[49m\u001b[43m,\u001b[49m\u001b[43m \u001b[49m\u001b[43mretain_graph\u001b[49m\u001b[43m,\u001b[49m\u001b[43m \u001b[49m\u001b[43mcreate_graph\u001b[49m\u001b[43m,\u001b[49m\u001b[43m \u001b[49m\u001b[43minputs\u001b[49m\u001b[38;5;241;43m=\u001b[39;49m\u001b[43minputs\u001b[49m\n\u001b[0;32m    489\u001b[0m \u001b[43m\u001b[49m\u001b[43m)\u001b[49m\n",
      "File \u001b[1;32mD:\\Python\\envs\\torch\\lib\\site-packages\\torch\\autograd\\__init__.py:200\u001b[0m, in \u001b[0;36mbackward\u001b[1;34m(tensors, grad_tensors, retain_graph, create_graph, grad_variables, inputs)\u001b[0m\n\u001b[0;32m    195\u001b[0m     retain_graph \u001b[38;5;241m=\u001b[39m create_graph\n\u001b[0;32m    197\u001b[0m \u001b[38;5;66;03m# The reason we repeat same the comment below is that\u001b[39;00m\n\u001b[0;32m    198\u001b[0m \u001b[38;5;66;03m# some Python versions print out the first line of a multi-line function\u001b[39;00m\n\u001b[0;32m    199\u001b[0m \u001b[38;5;66;03m# calls in the traceback and some print out the last line\u001b[39;00m\n\u001b[1;32m--> 200\u001b[0m \u001b[43mVariable\u001b[49m\u001b[38;5;241;43m.\u001b[39;49m\u001b[43m_execution_engine\u001b[49m\u001b[38;5;241;43m.\u001b[39;49m\u001b[43mrun_backward\u001b[49m\u001b[43m(\u001b[49m\u001b[43m  \u001b[49m\u001b[38;5;66;43;03m# Calls into the C++ engine to run the backward pass\u001b[39;49;00m\n\u001b[0;32m    201\u001b[0m \u001b[43m    \u001b[49m\u001b[43mtensors\u001b[49m\u001b[43m,\u001b[49m\u001b[43m \u001b[49m\u001b[43mgrad_tensors_\u001b[49m\u001b[43m,\u001b[49m\u001b[43m \u001b[49m\u001b[43mretain_graph\u001b[49m\u001b[43m,\u001b[49m\u001b[43m \u001b[49m\u001b[43mcreate_graph\u001b[49m\u001b[43m,\u001b[49m\u001b[43m \u001b[49m\u001b[43minputs\u001b[49m\u001b[43m,\u001b[49m\n\u001b[0;32m    202\u001b[0m \u001b[43m    \u001b[49m\u001b[43mallow_unreachable\u001b[49m\u001b[38;5;241;43m=\u001b[39;49m\u001b[38;5;28;43;01mTrue\u001b[39;49;00m\u001b[43m,\u001b[49m\u001b[43m \u001b[49m\u001b[43maccumulate_grad\u001b[49m\u001b[38;5;241;43m=\u001b[39;49m\u001b[38;5;28;43;01mTrue\u001b[39;49;00m\u001b[43m)\u001b[49m\n",
      "\u001b[1;31mKeyboardInterrupt\u001b[0m: "
     ]
    }
   ],
   "source": [
    "for epoch in range(4):\n",
    "    print(\"------------Epoch: %d ----------------\" % epoch)\n",
    "    train()\n",
    "    validation()"
   ]
  },
  {
   "cell_type": "markdown",
   "id": "56e9a897",
   "metadata": {},
   "source": [
    "# 对抗训练\n",
    "\n",
    "对抗样本：对输入增加微小扰动得到的样本。旨在增加模型损失。\n",
    "\n",
    "对抗训练：训练模型去区分样例是真实样例还是对抗样本的过程。对抗训练不仅可以提升模型对对抗样本的防御能力，还能提升对原始样本的泛化能力。\n",
    "\n",
    "对抗样本一般需要具备两个特点：\n",
    "- 相对于原始输入，所添加的扰动是微小的\n",
    "- 能使模型犯错"
   ]
  },
  {
   "cell_type": "markdown",
   "id": "9469022a",
   "metadata": {},
   "source": [
    "## FGM——Fast Gradient Method\n",
    "\n",
    "FGM则是根据具体的梯度进行scale，得到更好的对抗样本：\n",
    "\n",
    "对于每个x:\n",
    "\n",
    "  1.计算x的前向loss、反向传播得到梯度\n",
    "  \n",
    "  2.根据embedding矩阵的梯度计算出r，并加到当前embedding上，相当于x+r\n",
    "  \n",
    "  3.计算x+r的前向loss，反向传播得到对抗的梯度，累加到(1)的梯度上\n",
    "  \n",
    "  4.将embedding恢复为(1)时的值\n",
    "  \n",
    "  5.根据(3)的梯度对参数进行更新\n"
   ]
  },
  {
   "cell_type": "code",
   "execution_count": 79,
   "id": "33900dbe",
   "metadata": {},
   "outputs": [],
   "source": [
    "class FGM():\n",
    "    def __init__(self, model):\n",
    "        self.model = model\n",
    "        self.backup = {}\n",
    "\n",
    "    def attack(self, epsilon=1., emb_name='emb'):\n",
    "        # 攻击方法\n",
    "        # emb_name这个参数要换成你模型中embedding的参数名\n",
    "        # 例如，self.emb = nn.Embedding(5000, 100)\n",
    "        for name, param in self.model.named_parameters():\n",
    "            if param.requires_grad and 'embedding' in name:\n",
    "                self.backup[name] = param.data.clone()\n",
    "                norm = torch.norm(param.grad) # 默认为2范数\n",
    "                if norm != 0:\n",
    "                    r_at = epsilon * param.grad / norm\n",
    "                    param.data.add_(r_at)\n",
    "\n",
    "    def restore(self, emb_name='emb'):\n",
    "        # 恢复参数\n",
    "        # emb_name这个参数要换成你模型中embedding的参数名\n",
    "        for name, param in self.model.named_parameters():\n",
    "            if param.requires_grad and 'embedding' in name: \n",
    "                assert name in self.backup\n",
    "                param.data = self.backup[name]\n",
    "        self.backup = {}"
   ]
  },
  {
   "cell_type": "code",
   "execution_count": null,
   "id": "c5a712fa",
   "metadata": {},
   "outputs": [],
   "source": [
    "# 对抗训练\n",
    "# 训练函数\n",
    "def train():\n",
    "    model.train()\n",
    "    fgm = FGM(model)\n",
    "    total_train_loss = 0\n",
    "    iter_num = 0\n",
    "    total_iter = len(train_loader)\n",
    "    for batch in train_loader:\n",
    "        # 正向传播\n",
    "        optim.zero_grad()\n",
    "        \n",
    "        input_ids = batch['input_ids'].to(device)\n",
    "        attention_mask = batch['attention_mask'].to(device)\n",
    "        labels = batch['labels'].to(device)\n",
    "        \n",
    "        outputs = model(input_ids, attention_mask=attention_mask, labels=labels)\n",
    "        loss = outputs[0]\n",
    "        total_train_loss += loss.item()\n",
    "        \n",
    "        # 反向梯度信息\n",
    "        loss.backward()   # 反向传播，得到正常的grad\n",
    "        torch.nn.utils.clip_grad_norm_(model.parameters(), 1.0)\n",
    "        \n",
    "        # 产生对抗样本\n",
    "        # 再次正向传播\n",
    "         \n",
    "        # 对抗训练\n",
    "        fgm.attack()            # embedding被修改了\n",
    "        loss_sum = model(input_ids, attention_mask=attention_mask, labels=labels)\n",
    "        loss_sum[0].backward()  # 反向传播，在正常的grad基础上，累加对抗训练的梯度\n",
    "        fgm.restore()           # 恢复Embedding的参数\n",
    "        \n",
    "        # 参数更新\n",
    "        optim.step()\n",
    "        scheduler.step()\n",
    "\n",
    "        iter_num += 1\n",
    "        if(iter_num % 10==0):\n",
    "            print(\"epoth: %d, iter_num: %d, loss: %.4f, %.2f%%\" % (epoch, iter_num, loss.item(), iter_num/total_iter*100))\n",
    "        \n",
    "    print(\"Epoch: %d, Average training loss: %.4f\"%(epoch, total_train_loss/len(train_loader)))\n",
    "    \n",
    "def validation():\n",
    "    model.eval()\n",
    "    total_eval_accuracy = 0\n",
    "    total_eval_loss = 0\n",
    "    for batch in test_dataloader:\n",
    "        with torch.no_grad():\n",
    "            # 正常传播\n",
    "            input_ids = batch['input_ids'].to(device)\n",
    "            attention_mask = batch['attention_mask'].to(device)\n",
    "            labels = batch['labels'].to(device)\n",
    "            outputs = model(input_ids, attention_mask=attention_mask, labels=labels)\n",
    "        \n",
    "        loss = outputs[0]\n",
    "        logits = outputs[1]\n",
    "\n",
    "        total_eval_loss += loss.item()\n",
    "        logits = logits.detach().cpu().numpy()\n",
    "        label_ids = labels.to('cpu').numpy()\n",
    "        total_eval_accuracy += flat_accuracy(logits, label_ids)\n",
    "        \n",
    "    avg_val_accuracy = total_eval_accuracy / len(test_dataloader)\n",
    "    print(\"Accuracy: %.4f\" % (avg_val_accuracy))\n",
    "    print(\"Average testing loss: %.4f\"%(total_eval_loss/len(test_dataloader)))\n",
    "    print(\"-------------------------------\")\n",
    "    \n",
    "\n",
    "for epoch in range(4):\n",
    "    print(\"------------Epoch: %d ----------------\" % epoch)\n",
    "    train()\n",
    "    validation()"
   ]
  },
  {
   "cell_type": "code",
   "execution_count": null,
   "id": "ec991733",
   "metadata": {},
   "outputs": [],
   "source": []
  }
 ],
 "metadata": {
  "kernelspec": {
   "display_name": "Python 3 (ipykernel)",
   "language": "python",
   "name": "python3"
  },
  "language_info": {
   "codemirror_mode": {
    "name": "ipython",
    "version": 3
   },
   "file_extension": ".py",
   "mimetype": "text/x-python",
   "name": "python",
   "nbconvert_exporter": "python",
   "pygments_lexer": "ipython3",
   "version": "3.8.17"
  }
 },
 "nbformat": 4,
 "nbformat_minor": 5
}
