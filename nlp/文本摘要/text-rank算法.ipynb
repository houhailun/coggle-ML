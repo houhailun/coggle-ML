{
 "cells": [
  {
   "cell_type": "markdown",
   "id": "e7c520e3",
   "metadata": {},
   "source": [
    "TextRank是一种用于文本摘要和关键词提取的算法，它使用图模型来分析文本中的句子之间的关联度，并根据关联度对句子进行排序。TextRank4ZH是TextRank的一个针对中文文本的实现。在本篇文章中，我们将介绍如何使用Python中的TextRank4ZH来进行文本摘要和关键词提取的基本操作"
   ]
  },
  {
   "cell_type": "code",
   "execution_count": 1,
   "id": "85cde2e3",
   "metadata": {},
   "outputs": [],
   "source": [
    "import codecs\n",
    "\n",
    "# 导入提取关键词和生成摘要的类\n",
    "from textrank4zh import TextRank4Keyword, TextRank4Sentence"
   ]
  },
  {
   "cell_type": "code",
   "execution_count": 2,
   "id": "7befa1c2",
   "metadata": {},
   "outputs": [],
   "source": [
    "# pip install textrank4zh"
   ]
  },
  {
   "cell_type": "code",
   "execution_count": 3,
   "id": "88018965",
   "metadata": {},
   "outputs": [],
   "source": [
    "text = \"\"\"这是一个神话故事，传说在很久很久以前，天下分为东胜神洲、西牛贺洲、南赡部洲、北俱芦洲。在东胜神洲傲来国，有一座花果山，山上有一块仙石，一天仙石崩裂，从石头中滚出一个卵，这个卵一见风就变成一个石猴，猴眼射出一道道金光，向四方朝拜。那猴能走、能跑，渴了就喝些山涧中的泉水，饿了就吃些山上的果子。整天和山中的动物一起玩乐，过得十分快活。一天，天气特别热，猴子们为了躲避炎热的天气，跑到山涧里洗澡。它们看见这泉水哗哗地流，就顺着涧往前走，去寻找它的源头。猴子们爬呀、爬呀，走到了尽头，却看见一股瀑布，像是从天而降一样。猴子们觉得惊奇，商量说∶“哪个敢钻进瀑布，把泉水的源头找出来，又不伤身体，就拜他为王。”连喊了三遍，那石猴呼地跳了出来，高声喊道∶“我进去，我进去！”那石猴闭眼纵身跳入瀑布，觉得不像是在水中，这才睁开眼，四处打量，发现自己站在一座铁板桥上，桥下的水冲贯于石窍之间，倒挂着流出来，将桥门遮住，使外面的人看不到里面。石猴走过桥，发现这真是个好地方，石椅、石床、石盆、石碗，样样都有。这里就像不久以前有人住过一样，天然的房子，安静整洁，锅、碗、瓢、盆，整齐地放在炉灶上。正当中有一块石碑，上面刻着∶花果山福地，水帘洞洞天。石猴高兴得不得了，忙转身向外走去，嗖的一下跳出了洞。猴子们见石猴出来了，身上又一点伤也没有，又惊又喜，把他团团围住，争著问他里面的情况。石猴抓抓腮，挠挠痒，笑嘻嘻地对大家说∶“里面没有水，是一个安身的好地方，刮大风我们有地方躲，下大雨我们也不怕淋。”猴子们一听，一个个高兴得又蹦又跳。猴子们随着石猴穿过了瀑布，进入水帘洞中，看见了这么多的好东西，一个个你争我夺，拿盆的拿盆，拿碗的拿碗，占灶的占灶，争床的争床，搬过来，移过去，直到精疲力尽为止。猴子们都遵照诺言，拜石猴为王，石猴从此登上王位，将石字省去，自称“美猴王”。\"\"\""
   ]
  },
  {
   "cell_type": "markdown",
   "id": "22517938",
   "metadata": {},
   "source": [
    "# 关键词、关键短语"
   ]
  },
  {
   "cell_type": "code",
   "execution_count": 4,
   "id": "08d477ab",
   "metadata": {},
   "outputs": [
    {
     "name": "stderr",
     "output_type": "stream",
     "text": [
      "Building prefix dict from the default dictionary ...\n",
      "Loading model from cache C:\\Users\\HOUHAI~1\\AppData\\Local\\Temp\\jieba.cache\n",
      "Loading model cost 0.657 seconds.\n",
      "Prefix dict has been built successfully.\n"
     ]
    },
    {
     "name": "stdout",
     "output_type": "stream",
     "text": [
      "关键词为:\n",
      "\n",
      "item=石猴, weight=0.02474978395588156\n",
      "item=瀑布, weight=0.019579684586457737\n",
      "item=猴子, weight=0.01922122178927905\n",
      "item=出来, weight=0.01869660662176445\n",
      "item=泉水, weight=0.014933981405987605\n",
      "item=跑, weight=0.013453891533138099\n",
      "item=地方, weight=0.012595661784248846\n",
      "item=东胜, weight=0.012530803522452288\n",
      "item=没有, weight=0.011822644191754102\n",
      "item=桥, weight=0.011515616317807637\n",
      "item=见, weight=0.01077566159187517\n",
      "item=拜, weight=0.010772642097521339\n",
      "item=北俱, weight=0.010230800006232683\n",
      "item=崩裂, weight=0.010230800006232683\n",
      "item=发现自己, weight=0.010230800006232683\n",
      "item=贯于, weight=0.010230800006232683\n",
      "item=水帘洞, weight=0.010176967825910196\n",
      "item=去, weight=0.010120474732916688\n",
      "item=争床, weight=0.00997902891267331\n",
      "item=跳, weight=0.00985571026871633\n",
      "关键短语为:\n",
      "\n"
     ]
    }
   ],
   "source": [
    "\n",
    "# 创建分词类的实例\n",
    "tr4w = TextRank4Keyword()\n",
    "\n",
    "# 对文本进行分析，设定窗口大小为2，并将英文单词小写\n",
    "tr4w.analyze(text=text, lower=True, window=2)\n",
    "\n",
    "\n",
    "print(\"关键词为:\\n\")\n",
    "# 从关键词列表中获取前20个关键词, 且长度大于等于word_min_len\n",
    "for item in tr4w.get_keywords(num=20, word_min_len=1):\n",
    "    print(\"item={}, weight={}\".format(item.word, item.weight))\n",
    "    \n",
    "    \n",
    "print('关键短语为:\\n')\n",
    "# 从关键短语列表中获取关键短语\n",
    "for phrase in tr4w.get_keyphrases(keywords_num=20, min_occur_num=2):\n",
    "    print(phrase)"
   ]
  },
  {
   "cell_type": "code",
   "execution_count": 5,
   "id": "3149e46f",
   "metadata": {},
   "outputs": [
    {
     "name": "stdout",
     "output_type": "stream",
     "text": [
      "Looking in indexes: https://pypi.tuna.tsinghua.edu.cn/simple\n",
      "Requirement already satisfied: networkx==2.5.1 in d:\\python\\envs\\torch\\lib\\site-packages (2.5.1)\n",
      "Requirement already satisfied: some-package in d:\\python\\envs\\torch\\lib\\site-packages (0.1)\n",
      "Requirement already satisfied: decorator<5,>=4.3 in d:\\python\\envs\\torch\\lib\\site-packages (from networkx==2.5.1) (4.4.2)\n",
      "Note: you may need to restart the kernel to use updated packages.\n"
     ]
    }
   ],
   "source": [
    "# pip install networkx==2.5.1 -i https://pypi.tuna.tsinghua.edu.cn/simple some-package"
   ]
  },
  {
   "cell_type": "code",
   "execution_count": 6,
   "id": "dc22e1d9",
   "metadata": {},
   "outputs": [
    {
     "name": "stdout",
     "output_type": "stream",
     "text": [
      "摘要为:\n",
      "\n",
      "17 0.07352192552091193 猴子们随着石猴穿过了瀑布，进入水帘洞中，看见了这么多的好东西，一个个你争我夺，拿盆的拿盆，拿碗的拿碗，占灶的占灶，争床的争床，搬过来，移过去，直到精疲力尽为止\n",
      "7 0.07147428020382884 猴子们觉得惊奇，商量说∶“哪个敢钻进瀑布，把泉水的源头找出来，又不伤身体，就拜他为王\n",
      "9 0.06938398904847803 ”那石猴闭眼纵身跳入瀑布，觉得不像是在水中，这才睁开眼，四处打量，发现自己站在一座铁板桥上，桥下的水冲贯于石窍之间，倒挂着流出来，将桥门遮住，使外面的人看不到里面\n"
     ]
    }
   ],
   "source": [
    "# 创建分句实例\n",
    "tr4s = TextRank4Sentence()\n",
    "\n",
    "# 英文单词小写，进行词性过滤并剔除停用词\n",
    "tr4s.analyze(text=text, lower=True, source='all_filters')\n",
    "\n",
    "print('摘要为:\\n')\n",
    "# 抽取3条句子作为摘要\n",
    "for item in tr4s.get_key_sentences(num=3):\n",
    "    # 打印句子的索引、权重和内容\n",
    "    print(item.index, item.weight, item.sentence)"
   ]
  },
  {
   "cell_type": "code",
   "execution_count": null,
   "id": "3eb7c174",
   "metadata": {},
   "outputs": [],
   "source": []
  }
 ],
 "metadata": {
  "kernelspec": {
   "display_name": "Python 3 (ipykernel)",
   "language": "python",
   "name": "python3"
  },
  "language_info": {
   "codemirror_mode": {
    "name": "ipython",
    "version": 3
   },
   "file_extension": ".py",
   "mimetype": "text/x-python",
   "name": "python",
   "nbconvert_exporter": "python",
   "pygments_lexer": "ipython3",
   "version": "3.8.17"
  }
 },
 "nbformat": 4,
 "nbformat_minor": 5
}
